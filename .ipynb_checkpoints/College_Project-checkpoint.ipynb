{
 "cells": [
  {
   "cell_type": "markdown",
   "metadata": {
    "id": "3sMNNYduw158"
   },
   "source": [
    "\n",
    "# 1. Data preprocessing"
   ]
  },
  {
   "cell_type": "code",
   "execution_count": 2,
   "metadata": {
    "id": "cbggejOZw16E"
   },
   "outputs": [],
   "source": [
    "#Import of header files\n",
    "import pandas as pd\n",
    "import numpy as np\n",
    "import warnings\n",
    "warnings.filterwarnings('ignore') \n",
    "from sklearn import metrics\n",
    "from sklearn.metrics import classification_report"
   ]
  },
  {
   "cell_type": "code",
   "execution_count": 3,
   "metadata": {
    "id": "m6F9HKFGw16H"
   },
   "outputs": [],
   "source": [
    "#Reading the file\n",
    "data=pd.read_csv(\"training_data.csv\")"
   ]
  },
  {
   "cell_type": "code",
   "execution_count": 4,
   "metadata": {
    "colab": {
     "base_uri": "https://localhost:8080/",
     "height": 273
    },
    "id": "VPC4iwfZw16I",
    "outputId": "e4879691-1966-4305-bf8d-5076f681eb99"
   },
   "outputs": [
    {
     "data": {
      "text/html": [
       "<div>\n",
       "<style scoped>\n",
       "    .dataframe tbody tr th:only-of-type {\n",
       "        vertical-align: middle;\n",
       "    }\n",
       "\n",
       "    .dataframe tbody tr th {\n",
       "        vertical-align: top;\n",
       "    }\n",
       "\n",
       "    .dataframe thead th {\n",
       "        text-align: right;\n",
       "    }\n",
       "</style>\n",
       "<table border=\"1\" class=\"dataframe\">\n",
       "  <thead>\n",
       "    <tr style=\"text-align: right;\">\n",
       "      <th></th>\n",
       "      <th>itching</th>\n",
       "      <th>skin_rash</th>\n",
       "      <th>nodal_skin_eruptions</th>\n",
       "      <th>continuous_sneezing</th>\n",
       "      <th>shivering</th>\n",
       "      <th>chills</th>\n",
       "      <th>joint_pain</th>\n",
       "      <th>stomach_pain</th>\n",
       "      <th>acidity</th>\n",
       "      <th>ulcers_on_tongue</th>\n",
       "      <th>...</th>\n",
       "      <th>blackheads</th>\n",
       "      <th>scurring</th>\n",
       "      <th>skin_peeling</th>\n",
       "      <th>silver_like_dusting</th>\n",
       "      <th>small_dents_in_nails</th>\n",
       "      <th>inflammatory_nails</th>\n",
       "      <th>blister</th>\n",
       "      <th>red_sore_around_nose</th>\n",
       "      <th>yellow_crust_ooze</th>\n",
       "      <th>prognosis</th>\n",
       "    </tr>\n",
       "  </thead>\n",
       "  <tbody>\n",
       "    <tr>\n",
       "      <th>0</th>\n",
       "      <td>1</td>\n",
       "      <td>1</td>\n",
       "      <td>1</td>\n",
       "      <td>0</td>\n",
       "      <td>0</td>\n",
       "      <td>0</td>\n",
       "      <td>0</td>\n",
       "      <td>0</td>\n",
       "      <td>0</td>\n",
       "      <td>0</td>\n",
       "      <td>...</td>\n",
       "      <td>0</td>\n",
       "      <td>0</td>\n",
       "      <td>0</td>\n",
       "      <td>0</td>\n",
       "      <td>0</td>\n",
       "      <td>0</td>\n",
       "      <td>0</td>\n",
       "      <td>0</td>\n",
       "      <td>0</td>\n",
       "      <td>Fungal infection</td>\n",
       "    </tr>\n",
       "    <tr>\n",
       "      <th>1</th>\n",
       "      <td>0</td>\n",
       "      <td>1</td>\n",
       "      <td>1</td>\n",
       "      <td>0</td>\n",
       "      <td>0</td>\n",
       "      <td>0</td>\n",
       "      <td>0</td>\n",
       "      <td>0</td>\n",
       "      <td>0</td>\n",
       "      <td>0</td>\n",
       "      <td>...</td>\n",
       "      <td>0</td>\n",
       "      <td>0</td>\n",
       "      <td>0</td>\n",
       "      <td>0</td>\n",
       "      <td>0</td>\n",
       "      <td>0</td>\n",
       "      <td>0</td>\n",
       "      <td>0</td>\n",
       "      <td>0</td>\n",
       "      <td>Fungal infection</td>\n",
       "    </tr>\n",
       "    <tr>\n",
       "      <th>2</th>\n",
       "      <td>1</td>\n",
       "      <td>0</td>\n",
       "      <td>1</td>\n",
       "      <td>0</td>\n",
       "      <td>0</td>\n",
       "      <td>0</td>\n",
       "      <td>0</td>\n",
       "      <td>0</td>\n",
       "      <td>0</td>\n",
       "      <td>0</td>\n",
       "      <td>...</td>\n",
       "      <td>0</td>\n",
       "      <td>0</td>\n",
       "      <td>0</td>\n",
       "      <td>0</td>\n",
       "      <td>0</td>\n",
       "      <td>0</td>\n",
       "      <td>0</td>\n",
       "      <td>0</td>\n",
       "      <td>0</td>\n",
       "      <td>Fungal infection</td>\n",
       "    </tr>\n",
       "    <tr>\n",
       "      <th>3</th>\n",
       "      <td>1</td>\n",
       "      <td>1</td>\n",
       "      <td>0</td>\n",
       "      <td>0</td>\n",
       "      <td>0</td>\n",
       "      <td>0</td>\n",
       "      <td>0</td>\n",
       "      <td>0</td>\n",
       "      <td>0</td>\n",
       "      <td>0</td>\n",
       "      <td>...</td>\n",
       "      <td>0</td>\n",
       "      <td>0</td>\n",
       "      <td>0</td>\n",
       "      <td>0</td>\n",
       "      <td>0</td>\n",
       "      <td>0</td>\n",
       "      <td>0</td>\n",
       "      <td>0</td>\n",
       "      <td>0</td>\n",
       "      <td>Fungal infection</td>\n",
       "    </tr>\n",
       "    <tr>\n",
       "      <th>4</th>\n",
       "      <td>1</td>\n",
       "      <td>1</td>\n",
       "      <td>1</td>\n",
       "      <td>0</td>\n",
       "      <td>0</td>\n",
       "      <td>0</td>\n",
       "      <td>0</td>\n",
       "      <td>0</td>\n",
       "      <td>0</td>\n",
       "      <td>0</td>\n",
       "      <td>...</td>\n",
       "      <td>0</td>\n",
       "      <td>0</td>\n",
       "      <td>0</td>\n",
       "      <td>0</td>\n",
       "      <td>0</td>\n",
       "      <td>0</td>\n",
       "      <td>0</td>\n",
       "      <td>0</td>\n",
       "      <td>0</td>\n",
       "      <td>Fungal infection</td>\n",
       "    </tr>\n",
       "  </tbody>\n",
       "</table>\n",
       "<p>5 rows × 133 columns</p>\n",
       "</div>"
      ],
      "text/plain": [
       "   itching  skin_rash  nodal_skin_eruptions  continuous_sneezing  shivering  \\\n",
       "0        1          1                     1                    0          0   \n",
       "1        0          1                     1                    0          0   \n",
       "2        1          0                     1                    0          0   \n",
       "3        1          1                     0                    0          0   \n",
       "4        1          1                     1                    0          0   \n",
       "\n",
       "   chills  joint_pain  stomach_pain  acidity  ulcers_on_tongue  ...  \\\n",
       "0       0           0             0        0                 0  ...   \n",
       "1       0           0             0        0                 0  ...   \n",
       "2       0           0             0        0                 0  ...   \n",
       "3       0           0             0        0                 0  ...   \n",
       "4       0           0             0        0                 0  ...   \n",
       "\n",
       "   blackheads  scurring  skin_peeling  silver_like_dusting  \\\n",
       "0           0         0             0                    0   \n",
       "1           0         0             0                    0   \n",
       "2           0         0             0                    0   \n",
       "3           0         0             0                    0   \n",
       "4           0         0             0                    0   \n",
       "\n",
       "   small_dents_in_nails  inflammatory_nails  blister  red_sore_around_nose  \\\n",
       "0                     0                   0        0                     0   \n",
       "1                     0                   0        0                     0   \n",
       "2                     0                   0        0                     0   \n",
       "3                     0                   0        0                     0   \n",
       "4                     0                   0        0                     0   \n",
       "\n",
       "   yellow_crust_ooze         prognosis  \n",
       "0                  0  Fungal infection  \n",
       "1                  0  Fungal infection  \n",
       "2                  0  Fungal infection  \n",
       "3                  0  Fungal infection  \n",
       "4                  0  Fungal infection  \n",
       "\n",
       "[5 rows x 133 columns]"
      ]
     },
     "execution_count": 4,
     "metadata": {},
     "output_type": "execute_result"
    }
   ],
   "source": [
    "#First five records\n",
    "data.head()"
   ]
  },
  {
   "cell_type": "code",
   "execution_count": null,
   "metadata": {
    "colab": {
     "base_uri": "https://localhost:8080/"
    },
    "id": "-gVUFpSLw16J",
    "outputId": "81fffc6a-817f-409b-808d-236585b311e3"
   },
   "outputs": [
    {
     "data": {
      "text/plain": [
       "array(['Allergy', 'Common Cold', 'Dengue', 'Diabetes ', 'Hepatitis C',\n",
       "       'Hepatitis E', 'Malaria', 'Tuberculosis', 'Typhoid'], dtype=object)"
      ]
     },
     "execution_count": 56,
     "metadata": {},
     "output_type": "execute_result"
    }
   ],
   "source": [
    "#Target values\n",
    "data['prognosis'].unique()"
   ]
  },
  {
   "cell_type": "code",
   "execution_count": null,
   "metadata": {
    "colab": {
     "base_uri": "https://localhost:8080/"
    },
    "id": "IysLHmq7w16K",
    "outputId": "e792cefc-4734-4d43-d321-f6d4c285bcd5"
   },
   "outputs": [
    {
     "data": {
      "text/plain": [
       "0    Allergy\n",
       "1    Allergy\n",
       "2    Allergy\n",
       "3    Allergy\n",
       "4    Allergy\n",
       "Name: prognosis, dtype: object"
      ]
     },
     "execution_count": 57,
     "metadata": {},
     "output_type": "execute_result"
    }
   ],
   "source": [
    "#Taking the target data\n",
    "y=data['prognosis']\n",
    "y.head()"
   ]
  },
  {
   "cell_type": "code",
   "execution_count": null,
   "metadata": {
    "id": "DBJ_apmmw16L"
   },
   "outputs": [],
   "source": [
    "\n",
    "#Creating the temporary dataframe\n",
    "temp=data\n",
    "#Deleting the target column from the temp dataframe\n",
    "del temp['prognosis']"
   ]
  },
  {
   "cell_type": "code",
   "execution_count": null,
   "metadata": {
    "id": "oBUwqOj7w16M"
   },
   "outputs": [],
   "source": [
    "#Getting the X value or feature value in x\n",
    "x=temp"
   ]
  },
  {
   "cell_type": "code",
   "execution_count": null,
   "metadata": {
    "colab": {
     "base_uri": "https://localhost:8080/",
     "height": 273
    },
    "id": "njOba2p9w16N",
    "outputId": "c0021f43-e7e2-456f-936d-782688d9d9bc"
   },
   "outputs": [
    {
     "data": {
      "text/html": [
       "<div>\n",
       "<style scoped>\n",
       "    .dataframe tbody tr th:only-of-type {\n",
       "        vertical-align: middle;\n",
       "    }\n",
       "\n",
       "    .dataframe tbody tr th {\n",
       "        vertical-align: top;\n",
       "    }\n",
       "\n",
       "    .dataframe thead th {\n",
       "        text-align: right;\n",
       "    }\n",
       "</style>\n",
       "<table border=\"1\" class=\"dataframe\">\n",
       "  <thead>\n",
       "    <tr style=\"text-align: right;\">\n",
       "      <th></th>\n",
       "      <th>itching</th>\n",
       "      <th>skin_rash</th>\n",
       "      <th>nodal_skin_eruptions</th>\n",
       "      <th>continuous_sneezing</th>\n",
       "      <th>shivering</th>\n",
       "      <th>chills</th>\n",
       "      <th>joint_pain</th>\n",
       "      <th>stomach_pain</th>\n",
       "      <th>acidity</th>\n",
       "      <th>ulcers_on_tongue</th>\n",
       "      <th>vomiting</th>\n",
       "      <th>fatigue</th>\n",
       "      <th>weight_gain</th>\n",
       "      <th>anxiety</th>\n",
       "      <th>cold_hands_and_feets</th>\n",
       "      <th>mood_swings</th>\n",
       "      <th>weight_loss</th>\n",
       "      <th>restlessness</th>\n",
       "      <th>lethargy</th>\n",
       "      <th>patches_in_throat</th>\n",
       "      <th>irregular_sugar_level</th>\n",
       "      <th>cough</th>\n",
       "      <th>high_fever</th>\n",
       "      <th>sunken_eyes</th>\n",
       "      <th>breathlessness</th>\n",
       "      <th>sweating</th>\n",
       "      <th>dehydration</th>\n",
       "      <th>indigestion</th>\n",
       "      <th>headache</th>\n",
       "      <th>yellowish_skin</th>\n",
       "      <th>dark_urine</th>\n",
       "      <th>nausea</th>\n",
       "      <th>loss_of_appetite</th>\n",
       "      <th>pain_behind_the_eyes</th>\n",
       "      <th>back_pain</th>\n",
       "      <th>constipation</th>\n",
       "      <th>abdominal_pain</th>\n",
       "      <th>diarrhoea</th>\n",
       "      <th>mild_fever</th>\n",
       "      <th>yellow_urine</th>\n",
       "      <th>...</th>\n",
       "      <th>foul_smell_of urine</th>\n",
       "      <th>continuous_feel_of_urine</th>\n",
       "      <th>passage_of_gases</th>\n",
       "      <th>internal_itching</th>\n",
       "      <th>toxic_look_(typhos)</th>\n",
       "      <th>depression</th>\n",
       "      <th>irritability</th>\n",
       "      <th>muscle_pain</th>\n",
       "      <th>altered_sensorium</th>\n",
       "      <th>red_spots_over_body</th>\n",
       "      <th>belly_pain</th>\n",
       "      <th>abnormal_menstruation</th>\n",
       "      <th>dischromic _patches</th>\n",
       "      <th>watering_from_eyes</th>\n",
       "      <th>increased_appetite</th>\n",
       "      <th>polyuria</th>\n",
       "      <th>family_history</th>\n",
       "      <th>mucoid_sputum</th>\n",
       "      <th>rusty_sputum</th>\n",
       "      <th>lack_of_concentration</th>\n",
       "      <th>visual_disturbances</th>\n",
       "      <th>receiving_blood_transfusion</th>\n",
       "      <th>receiving_unsterile_injections</th>\n",
       "      <th>coma</th>\n",
       "      <th>stomach_bleeding</th>\n",
       "      <th>distention_of_abdomen</th>\n",
       "      <th>history_of_alcohol_consumption</th>\n",
       "      <th>fluid_overload.1</th>\n",
       "      <th>blood_in_sputum</th>\n",
       "      <th>prominent_veins_on_calf</th>\n",
       "      <th>palpitations</th>\n",
       "      <th>painful_walking</th>\n",
       "      <th>pus_filled_pimples</th>\n",
       "      <th>scurring</th>\n",
       "      <th>skin_peeling</th>\n",
       "      <th>silver_like_dusting</th>\n",
       "      <th>small_dents_in_nails</th>\n",
       "      <th>inflammatory_nails</th>\n",
       "      <th>blister</th>\n",
       "      <th>yellow_crust_ooze</th>\n",
       "    </tr>\n",
       "  </thead>\n",
       "  <tbody>\n",
       "    <tr>\n",
       "      <th>0</th>\n",
       "      <td>0</td>\n",
       "      <td>0</td>\n",
       "      <td>0</td>\n",
       "      <td>1</td>\n",
       "      <td>1</td>\n",
       "      <td>1</td>\n",
       "      <td>0</td>\n",
       "      <td>0</td>\n",
       "      <td>0</td>\n",
       "      <td>0</td>\n",
       "      <td>0</td>\n",
       "      <td>0</td>\n",
       "      <td>0</td>\n",
       "      <td>0</td>\n",
       "      <td>0</td>\n",
       "      <td>0</td>\n",
       "      <td>0</td>\n",
       "      <td>0</td>\n",
       "      <td>0</td>\n",
       "      <td>0</td>\n",
       "      <td>0</td>\n",
       "      <td>0</td>\n",
       "      <td>0</td>\n",
       "      <td>0</td>\n",
       "      <td>0</td>\n",
       "      <td>0</td>\n",
       "      <td>0</td>\n",
       "      <td>0</td>\n",
       "      <td>0</td>\n",
       "      <td>0</td>\n",
       "      <td>0</td>\n",
       "      <td>0</td>\n",
       "      <td>0</td>\n",
       "      <td>0</td>\n",
       "      <td>0</td>\n",
       "      <td>0</td>\n",
       "      <td>0</td>\n",
       "      <td>0</td>\n",
       "      <td>0</td>\n",
       "      <td>0</td>\n",
       "      <td>...</td>\n",
       "      <td>0</td>\n",
       "      <td>0</td>\n",
       "      <td>0</td>\n",
       "      <td>0</td>\n",
       "      <td>0</td>\n",
       "      <td>0</td>\n",
       "      <td>0</td>\n",
       "      <td>0</td>\n",
       "      <td>0</td>\n",
       "      <td>0</td>\n",
       "      <td>0</td>\n",
       "      <td>0</td>\n",
       "      <td>0</td>\n",
       "      <td>1</td>\n",
       "      <td>0</td>\n",
       "      <td>0</td>\n",
       "      <td>0</td>\n",
       "      <td>0</td>\n",
       "      <td>0</td>\n",
       "      <td>0</td>\n",
       "      <td>0</td>\n",
       "      <td>0</td>\n",
       "      <td>0</td>\n",
       "      <td>0</td>\n",
       "      <td>0</td>\n",
       "      <td>0</td>\n",
       "      <td>0</td>\n",
       "      <td>0</td>\n",
       "      <td>0</td>\n",
       "      <td>0</td>\n",
       "      <td>0</td>\n",
       "      <td>0</td>\n",
       "      <td>0</td>\n",
       "      <td>0</td>\n",
       "      <td>0</td>\n",
       "      <td>0</td>\n",
       "      <td>0</td>\n",
       "      <td>0</td>\n",
       "      <td>0</td>\n",
       "      <td>0</td>\n",
       "    </tr>\n",
       "    <tr>\n",
       "      <th>1</th>\n",
       "      <td>0</td>\n",
       "      <td>0</td>\n",
       "      <td>0</td>\n",
       "      <td>0</td>\n",
       "      <td>1</td>\n",
       "      <td>1</td>\n",
       "      <td>0</td>\n",
       "      <td>0</td>\n",
       "      <td>0</td>\n",
       "      <td>0</td>\n",
       "      <td>0</td>\n",
       "      <td>0</td>\n",
       "      <td>0</td>\n",
       "      <td>0</td>\n",
       "      <td>0</td>\n",
       "      <td>0</td>\n",
       "      <td>0</td>\n",
       "      <td>0</td>\n",
       "      <td>0</td>\n",
       "      <td>0</td>\n",
       "      <td>0</td>\n",
       "      <td>0</td>\n",
       "      <td>0</td>\n",
       "      <td>0</td>\n",
       "      <td>0</td>\n",
       "      <td>0</td>\n",
       "      <td>0</td>\n",
       "      <td>0</td>\n",
       "      <td>0</td>\n",
       "      <td>0</td>\n",
       "      <td>0</td>\n",
       "      <td>0</td>\n",
       "      <td>0</td>\n",
       "      <td>0</td>\n",
       "      <td>0</td>\n",
       "      <td>0</td>\n",
       "      <td>0</td>\n",
       "      <td>0</td>\n",
       "      <td>0</td>\n",
       "      <td>0</td>\n",
       "      <td>...</td>\n",
       "      <td>0</td>\n",
       "      <td>0</td>\n",
       "      <td>0</td>\n",
       "      <td>0</td>\n",
       "      <td>0</td>\n",
       "      <td>0</td>\n",
       "      <td>0</td>\n",
       "      <td>0</td>\n",
       "      <td>0</td>\n",
       "      <td>0</td>\n",
       "      <td>0</td>\n",
       "      <td>0</td>\n",
       "      <td>0</td>\n",
       "      <td>1</td>\n",
       "      <td>0</td>\n",
       "      <td>0</td>\n",
       "      <td>0</td>\n",
       "      <td>0</td>\n",
       "      <td>0</td>\n",
       "      <td>0</td>\n",
       "      <td>0</td>\n",
       "      <td>0</td>\n",
       "      <td>0</td>\n",
       "      <td>0</td>\n",
       "      <td>0</td>\n",
       "      <td>0</td>\n",
       "      <td>0</td>\n",
       "      <td>0</td>\n",
       "      <td>0</td>\n",
       "      <td>0</td>\n",
       "      <td>0</td>\n",
       "      <td>0</td>\n",
       "      <td>0</td>\n",
       "      <td>0</td>\n",
       "      <td>0</td>\n",
       "      <td>0</td>\n",
       "      <td>0</td>\n",
       "      <td>0</td>\n",
       "      <td>0</td>\n",
       "      <td>0</td>\n",
       "    </tr>\n",
       "    <tr>\n",
       "      <th>2</th>\n",
       "      <td>0</td>\n",
       "      <td>0</td>\n",
       "      <td>0</td>\n",
       "      <td>1</td>\n",
       "      <td>0</td>\n",
       "      <td>1</td>\n",
       "      <td>0</td>\n",
       "      <td>0</td>\n",
       "      <td>0</td>\n",
       "      <td>0</td>\n",
       "      <td>0</td>\n",
       "      <td>0</td>\n",
       "      <td>0</td>\n",
       "      <td>0</td>\n",
       "      <td>0</td>\n",
       "      <td>0</td>\n",
       "      <td>0</td>\n",
       "      <td>0</td>\n",
       "      <td>0</td>\n",
       "      <td>0</td>\n",
       "      <td>0</td>\n",
       "      <td>0</td>\n",
       "      <td>0</td>\n",
       "      <td>0</td>\n",
       "      <td>0</td>\n",
       "      <td>0</td>\n",
       "      <td>0</td>\n",
       "      <td>0</td>\n",
       "      <td>0</td>\n",
       "      <td>0</td>\n",
       "      <td>0</td>\n",
       "      <td>0</td>\n",
       "      <td>0</td>\n",
       "      <td>0</td>\n",
       "      <td>0</td>\n",
       "      <td>0</td>\n",
       "      <td>0</td>\n",
       "      <td>0</td>\n",
       "      <td>0</td>\n",
       "      <td>0</td>\n",
       "      <td>...</td>\n",
       "      <td>0</td>\n",
       "      <td>0</td>\n",
       "      <td>0</td>\n",
       "      <td>0</td>\n",
       "      <td>0</td>\n",
       "      <td>0</td>\n",
       "      <td>0</td>\n",
       "      <td>0</td>\n",
       "      <td>0</td>\n",
       "      <td>0</td>\n",
       "      <td>0</td>\n",
       "      <td>0</td>\n",
       "      <td>0</td>\n",
       "      <td>1</td>\n",
       "      <td>0</td>\n",
       "      <td>0</td>\n",
       "      <td>0</td>\n",
       "      <td>0</td>\n",
       "      <td>0</td>\n",
       "      <td>0</td>\n",
       "      <td>0</td>\n",
       "      <td>0</td>\n",
       "      <td>0</td>\n",
       "      <td>0</td>\n",
       "      <td>0</td>\n",
       "      <td>0</td>\n",
       "      <td>0</td>\n",
       "      <td>0</td>\n",
       "      <td>0</td>\n",
       "      <td>0</td>\n",
       "      <td>0</td>\n",
       "      <td>0</td>\n",
       "      <td>0</td>\n",
       "      <td>0</td>\n",
       "      <td>0</td>\n",
       "      <td>0</td>\n",
       "      <td>0</td>\n",
       "      <td>0</td>\n",
       "      <td>0</td>\n",
       "      <td>0</td>\n",
       "    </tr>\n",
       "    <tr>\n",
       "      <th>3</th>\n",
       "      <td>0</td>\n",
       "      <td>0</td>\n",
       "      <td>0</td>\n",
       "      <td>1</td>\n",
       "      <td>1</td>\n",
       "      <td>0</td>\n",
       "      <td>0</td>\n",
       "      <td>0</td>\n",
       "      <td>0</td>\n",
       "      <td>0</td>\n",
       "      <td>0</td>\n",
       "      <td>0</td>\n",
       "      <td>0</td>\n",
       "      <td>0</td>\n",
       "      <td>0</td>\n",
       "      <td>0</td>\n",
       "      <td>0</td>\n",
       "      <td>0</td>\n",
       "      <td>0</td>\n",
       "      <td>0</td>\n",
       "      <td>0</td>\n",
       "      <td>0</td>\n",
       "      <td>0</td>\n",
       "      <td>0</td>\n",
       "      <td>0</td>\n",
       "      <td>0</td>\n",
       "      <td>0</td>\n",
       "      <td>0</td>\n",
       "      <td>0</td>\n",
       "      <td>0</td>\n",
       "      <td>0</td>\n",
       "      <td>0</td>\n",
       "      <td>0</td>\n",
       "      <td>0</td>\n",
       "      <td>0</td>\n",
       "      <td>0</td>\n",
       "      <td>0</td>\n",
       "      <td>0</td>\n",
       "      <td>0</td>\n",
       "      <td>0</td>\n",
       "      <td>...</td>\n",
       "      <td>0</td>\n",
       "      <td>0</td>\n",
       "      <td>0</td>\n",
       "      <td>0</td>\n",
       "      <td>0</td>\n",
       "      <td>0</td>\n",
       "      <td>0</td>\n",
       "      <td>0</td>\n",
       "      <td>0</td>\n",
       "      <td>0</td>\n",
       "      <td>0</td>\n",
       "      <td>0</td>\n",
       "      <td>0</td>\n",
       "      <td>1</td>\n",
       "      <td>0</td>\n",
       "      <td>0</td>\n",
       "      <td>0</td>\n",
       "      <td>0</td>\n",
       "      <td>0</td>\n",
       "      <td>0</td>\n",
       "      <td>0</td>\n",
       "      <td>0</td>\n",
       "      <td>0</td>\n",
       "      <td>0</td>\n",
       "      <td>0</td>\n",
       "      <td>0</td>\n",
       "      <td>0</td>\n",
       "      <td>0</td>\n",
       "      <td>0</td>\n",
       "      <td>0</td>\n",
       "      <td>0</td>\n",
       "      <td>0</td>\n",
       "      <td>0</td>\n",
       "      <td>0</td>\n",
       "      <td>0</td>\n",
       "      <td>0</td>\n",
       "      <td>0</td>\n",
       "      <td>0</td>\n",
       "      <td>0</td>\n",
       "      <td>0</td>\n",
       "    </tr>\n",
       "    <tr>\n",
       "      <th>4</th>\n",
       "      <td>0</td>\n",
       "      <td>0</td>\n",
       "      <td>0</td>\n",
       "      <td>1</td>\n",
       "      <td>1</td>\n",
       "      <td>1</td>\n",
       "      <td>0</td>\n",
       "      <td>0</td>\n",
       "      <td>0</td>\n",
       "      <td>0</td>\n",
       "      <td>0</td>\n",
       "      <td>0</td>\n",
       "      <td>0</td>\n",
       "      <td>0</td>\n",
       "      <td>0</td>\n",
       "      <td>0</td>\n",
       "      <td>0</td>\n",
       "      <td>0</td>\n",
       "      <td>0</td>\n",
       "      <td>0</td>\n",
       "      <td>0</td>\n",
       "      <td>0</td>\n",
       "      <td>0</td>\n",
       "      <td>0</td>\n",
       "      <td>0</td>\n",
       "      <td>0</td>\n",
       "      <td>0</td>\n",
       "      <td>0</td>\n",
       "      <td>0</td>\n",
       "      <td>0</td>\n",
       "      <td>0</td>\n",
       "      <td>0</td>\n",
       "      <td>0</td>\n",
       "      <td>0</td>\n",
       "      <td>0</td>\n",
       "      <td>0</td>\n",
       "      <td>0</td>\n",
       "      <td>0</td>\n",
       "      <td>0</td>\n",
       "      <td>0</td>\n",
       "      <td>...</td>\n",
       "      <td>0</td>\n",
       "      <td>0</td>\n",
       "      <td>0</td>\n",
       "      <td>0</td>\n",
       "      <td>0</td>\n",
       "      <td>0</td>\n",
       "      <td>0</td>\n",
       "      <td>0</td>\n",
       "      <td>0</td>\n",
       "      <td>0</td>\n",
       "      <td>0</td>\n",
       "      <td>0</td>\n",
       "      <td>0</td>\n",
       "      <td>0</td>\n",
       "      <td>0</td>\n",
       "      <td>0</td>\n",
       "      <td>0</td>\n",
       "      <td>0</td>\n",
       "      <td>0</td>\n",
       "      <td>0</td>\n",
       "      <td>0</td>\n",
       "      <td>0</td>\n",
       "      <td>0</td>\n",
       "      <td>0</td>\n",
       "      <td>0</td>\n",
       "      <td>0</td>\n",
       "      <td>0</td>\n",
       "      <td>0</td>\n",
       "      <td>0</td>\n",
       "      <td>0</td>\n",
       "      <td>0</td>\n",
       "      <td>0</td>\n",
       "      <td>0</td>\n",
       "      <td>0</td>\n",
       "      <td>0</td>\n",
       "      <td>0</td>\n",
       "      <td>0</td>\n",
       "      <td>0</td>\n",
       "      <td>0</td>\n",
       "      <td>0</td>\n",
       "    </tr>\n",
       "  </tbody>\n",
       "</table>\n",
       "<p>5 rows × 127 columns</p>\n",
       "</div>"
      ],
      "text/plain": [
       "   itching  skin_rash  ...  blister  yellow_crust_ooze\n",
       "0        0          0  ...        0                  0\n",
       "1        0          0  ...        0                  0\n",
       "2        0          0  ...        0                  0\n",
       "3        0          0  ...        0                  0\n",
       "4        0          0  ...        0                  0\n",
       "\n",
       "[5 rows x 127 columns]"
      ]
     },
     "execution_count": 59,
     "metadata": {},
     "output_type": "execute_result"
    }
   ],
   "source": [
    "#First five value of x\n",
    "x.head()"
   ]
  },
  {
   "cell_type": "code",
   "execution_count": null,
   "metadata": {
    "colab": {
     "base_uri": "https://localhost:8080/"
    },
    "id": "477kXrqmw16O",
    "outputId": "4aae788e-82f5-47ee-9e76-ec39a6f230c5"
   },
   "outputs": [
    {
     "data": {
      "text/plain": [
       "Index(['itching', 'skin_rash', 'nodal_skin_eruptions', 'continuous_sneezing',\n",
       "       'shivering', 'chills', 'joint_pain', 'stomach_pain', 'acidity',\n",
       "       'ulcers_on_tongue',\n",
       "       ...\n",
       "       'palpitations', 'painful_walking', 'pus_filled_pimples', 'scurring',\n",
       "       'skin_peeling', 'silver_like_dusting', 'small_dents_in_nails',\n",
       "       'inflammatory_nails', 'blister', 'yellow_crust_ooze'],\n",
       "      dtype='object', length=127)"
      ]
     },
     "execution_count": 10,
     "metadata": {},
     "output_type": "execute_result"
    }
   ],
   "source": [
    "#Name of the columns of x\n",
    "x.columns"
   ]
  },
  {
   "cell_type": "code",
   "execution_count": null,
   "metadata": {
    "colab": {
     "base_uri": "https://localhost:8080/"
    },
    "id": "2GAgX3F3w16P",
    "outputId": "6c5634a0-d75d-4ba2-faf6-a8a47d795396"
   },
   "outputs": [
    {
     "data": {
      "text/plain": [
       "((1080, 127), (1080,))"
      ]
     },
     "execution_count": 11,
     "metadata": {},
     "output_type": "execute_result"
    }
   ],
   "source": [
    "#Shape of the x and y\n",
    "x.shape,y.shape"
   ]
  },
  {
   "cell_type": "code",
   "execution_count": null,
   "metadata": {
    "colab": {
     "base_uri": "https://localhost:8080/",
     "height": 366
    },
    "id": "pnGcjaydw16P",
    "outputId": "133802f5-cc4c-4e39-8ba9-705ef21542e7"
   },
   "outputs": [
    {
     "data": {
      "text/html": [
       "<div>\n",
       "<style scoped>\n",
       "    .dataframe tbody tr th:only-of-type {\n",
       "        vertical-align: middle;\n",
       "    }\n",
       "\n",
       "    .dataframe tbody tr th {\n",
       "        vertical-align: top;\n",
       "    }\n",
       "\n",
       "    .dataframe thead th {\n",
       "        text-align: right;\n",
       "    }\n",
       "</style>\n",
       "<table border=\"1\" class=\"dataframe\">\n",
       "  <thead>\n",
       "    <tr style=\"text-align: right;\">\n",
       "      <th></th>\n",
       "      <th>itching</th>\n",
       "      <th>skin_rash</th>\n",
       "      <th>nodal_skin_eruptions</th>\n",
       "      <th>continuous_sneezing</th>\n",
       "      <th>shivering</th>\n",
       "      <th>chills</th>\n",
       "      <th>joint_pain</th>\n",
       "      <th>stomach_pain</th>\n",
       "      <th>acidity</th>\n",
       "      <th>ulcers_on_tongue</th>\n",
       "      <th>vomiting</th>\n",
       "      <th>fatigue</th>\n",
       "      <th>weight_gain</th>\n",
       "      <th>anxiety</th>\n",
       "      <th>cold_hands_and_feets</th>\n",
       "      <th>mood_swings</th>\n",
       "      <th>weight_loss</th>\n",
       "      <th>restlessness</th>\n",
       "      <th>lethargy</th>\n",
       "      <th>patches_in_throat</th>\n",
       "      <th>irregular_sugar_level</th>\n",
       "      <th>cough</th>\n",
       "      <th>high_fever</th>\n",
       "      <th>sunken_eyes</th>\n",
       "      <th>breathlessness</th>\n",
       "      <th>sweating</th>\n",
       "      <th>dehydration</th>\n",
       "      <th>indigestion</th>\n",
       "      <th>headache</th>\n",
       "      <th>yellowish_skin</th>\n",
       "      <th>dark_urine</th>\n",
       "      <th>nausea</th>\n",
       "      <th>loss_of_appetite</th>\n",
       "      <th>pain_behind_the_eyes</th>\n",
       "      <th>back_pain</th>\n",
       "      <th>constipation</th>\n",
       "      <th>abdominal_pain</th>\n",
       "      <th>diarrhoea</th>\n",
       "      <th>mild_fever</th>\n",
       "      <th>yellow_urine</th>\n",
       "      <th>...</th>\n",
       "      <th>foul_smell_of urine</th>\n",
       "      <th>continuous_feel_of_urine</th>\n",
       "      <th>passage_of_gases</th>\n",
       "      <th>internal_itching</th>\n",
       "      <th>toxic_look_(typhos)</th>\n",
       "      <th>depression</th>\n",
       "      <th>irritability</th>\n",
       "      <th>muscle_pain</th>\n",
       "      <th>altered_sensorium</th>\n",
       "      <th>red_spots_over_body</th>\n",
       "      <th>belly_pain</th>\n",
       "      <th>abnormal_menstruation</th>\n",
       "      <th>dischromic _patches</th>\n",
       "      <th>watering_from_eyes</th>\n",
       "      <th>increased_appetite</th>\n",
       "      <th>polyuria</th>\n",
       "      <th>family_history</th>\n",
       "      <th>mucoid_sputum</th>\n",
       "      <th>rusty_sputum</th>\n",
       "      <th>lack_of_concentration</th>\n",
       "      <th>visual_disturbances</th>\n",
       "      <th>receiving_blood_transfusion</th>\n",
       "      <th>receiving_unsterile_injections</th>\n",
       "      <th>coma</th>\n",
       "      <th>stomach_bleeding</th>\n",
       "      <th>distention_of_abdomen</th>\n",
       "      <th>history_of_alcohol_consumption</th>\n",
       "      <th>fluid_overload.1</th>\n",
       "      <th>blood_in_sputum</th>\n",
       "      <th>prominent_veins_on_calf</th>\n",
       "      <th>palpitations</th>\n",
       "      <th>painful_walking</th>\n",
       "      <th>pus_filled_pimples</th>\n",
       "      <th>scurring</th>\n",
       "      <th>skin_peeling</th>\n",
       "      <th>silver_like_dusting</th>\n",
       "      <th>small_dents_in_nails</th>\n",
       "      <th>inflammatory_nails</th>\n",
       "      <th>blister</th>\n",
       "      <th>yellow_crust_ooze</th>\n",
       "    </tr>\n",
       "  </thead>\n",
       "  <tbody>\n",
       "    <tr>\n",
       "      <th>count</th>\n",
       "      <td>1080.0</td>\n",
       "      <td>1080.000000</td>\n",
       "      <td>1080.0</td>\n",
       "      <td>1080.000000</td>\n",
       "      <td>1080.000000</td>\n",
       "      <td>1080.000000</td>\n",
       "      <td>1080.000000</td>\n",
       "      <td>1080.0</td>\n",
       "      <td>1080.0</td>\n",
       "      <td>1080.0</td>\n",
       "      <td>1080.000000</td>\n",
       "      <td>1080.000000</td>\n",
       "      <td>1080.0</td>\n",
       "      <td>1080.0</td>\n",
       "      <td>1080.0</td>\n",
       "      <td>1080.0</td>\n",
       "      <td>1080.000000</td>\n",
       "      <td>1080.000000</td>\n",
       "      <td>1080.000000</td>\n",
       "      <td>1080.0</td>\n",
       "      <td>1080.000000</td>\n",
       "      <td>1080.000000</td>\n",
       "      <td>1080.000000</td>\n",
       "      <td>1080.0</td>\n",
       "      <td>1080.000000</td>\n",
       "      <td>1080.000000</td>\n",
       "      <td>1080.0</td>\n",
       "      <td>1080.0</td>\n",
       "      <td>1080.000000</td>\n",
       "      <td>1080.000000</td>\n",
       "      <td>1080.000000</td>\n",
       "      <td>1080.000000</td>\n",
       "      <td>1080.000000</td>\n",
       "      <td>1080.000000</td>\n",
       "      <td>1080.000000</td>\n",
       "      <td>1080.000000</td>\n",
       "      <td>1080.000000</td>\n",
       "      <td>1080.000000</td>\n",
       "      <td>1080.000000</td>\n",
       "      <td>1080.0</td>\n",
       "      <td>...</td>\n",
       "      <td>1080.0</td>\n",
       "      <td>1080.0</td>\n",
       "      <td>1080.0</td>\n",
       "      <td>1080.0</td>\n",
       "      <td>1080.000000</td>\n",
       "      <td>1080.0</td>\n",
       "      <td>1080.0</td>\n",
       "      <td>1080.000000</td>\n",
       "      <td>1080.0</td>\n",
       "      <td>1080.000000</td>\n",
       "      <td>1080.000000</td>\n",
       "      <td>1080.0</td>\n",
       "      <td>1080.0</td>\n",
       "      <td>1080.000000</td>\n",
       "      <td>1080.000000</td>\n",
       "      <td>1080.000000</td>\n",
       "      <td>1080.000000</td>\n",
       "      <td>1080.0</td>\n",
       "      <td>1080.0</td>\n",
       "      <td>1080.0</td>\n",
       "      <td>1080.0</td>\n",
       "      <td>1080.0</td>\n",
       "      <td>1080.0</td>\n",
       "      <td>1080.000000</td>\n",
       "      <td>1080.000000</td>\n",
       "      <td>1080.0</td>\n",
       "      <td>1080.0</td>\n",
       "      <td>1080.0</td>\n",
       "      <td>1080.000000</td>\n",
       "      <td>1080.0</td>\n",
       "      <td>1080.0</td>\n",
       "      <td>1080.0</td>\n",
       "      <td>1080.0</td>\n",
       "      <td>1080.0</td>\n",
       "      <td>1080.0</td>\n",
       "      <td>1080.0</td>\n",
       "      <td>1080.0</td>\n",
       "      <td>1080.0</td>\n",
       "      <td>1080.0</td>\n",
       "      <td>1080.0</td>\n",
       "    </tr>\n",
       "    <tr>\n",
       "      <th>mean</th>\n",
       "      <td>0.0</td>\n",
       "      <td>0.105556</td>\n",
       "      <td>0.0</td>\n",
       "      <td>0.205556</td>\n",
       "      <td>0.100000</td>\n",
       "      <td>0.633333</td>\n",
       "      <td>0.211111</td>\n",
       "      <td>0.0</td>\n",
       "      <td>0.0</td>\n",
       "      <td>0.0</td>\n",
       "      <td>0.527778</td>\n",
       "      <td>0.744444</td>\n",
       "      <td>0.0</td>\n",
       "      <td>0.0</td>\n",
       "      <td>0.0</td>\n",
       "      <td>0.0</td>\n",
       "      <td>0.211111</td>\n",
       "      <td>0.105556</td>\n",
       "      <td>0.105556</td>\n",
       "      <td>0.0</td>\n",
       "      <td>0.105556</td>\n",
       "      <td>0.211111</td>\n",
       "      <td>0.638889</td>\n",
       "      <td>0.0</td>\n",
       "      <td>0.105556</td>\n",
       "      <td>0.211111</td>\n",
       "      <td>0.0</td>\n",
       "      <td>0.0</td>\n",
       "      <td>0.427778</td>\n",
       "      <td>0.211111</td>\n",
       "      <td>0.105556</td>\n",
       "      <td>0.533333</td>\n",
       "      <td>0.438889</td>\n",
       "      <td>0.111111</td>\n",
       "      <td>0.111111</td>\n",
       "      <td>0.105556</td>\n",
       "      <td>0.216667</td>\n",
       "      <td>0.205556</td>\n",
       "      <td>0.111111</td>\n",
       "      <td>0.0</td>\n",
       "      <td>...</td>\n",
       "      <td>0.0</td>\n",
       "      <td>0.0</td>\n",
       "      <td>0.0</td>\n",
       "      <td>0.0</td>\n",
       "      <td>0.105556</td>\n",
       "      <td>0.0</td>\n",
       "      <td>0.0</td>\n",
       "      <td>0.327778</td>\n",
       "      <td>0.0</td>\n",
       "      <td>0.105556</td>\n",
       "      <td>0.105556</td>\n",
       "      <td>0.0</td>\n",
       "      <td>0.0</td>\n",
       "      <td>0.100000</td>\n",
       "      <td>0.111111</td>\n",
       "      <td>0.111111</td>\n",
       "      <td>0.105556</td>\n",
       "      <td>0.0</td>\n",
       "      <td>0.0</td>\n",
       "      <td>0.0</td>\n",
       "      <td>0.0</td>\n",
       "      <td>0.0</td>\n",
       "      <td>0.0</td>\n",
       "      <td>0.111111</td>\n",
       "      <td>0.111111</td>\n",
       "      <td>0.0</td>\n",
       "      <td>0.0</td>\n",
       "      <td>0.0</td>\n",
       "      <td>0.111111</td>\n",
       "      <td>0.0</td>\n",
       "      <td>0.0</td>\n",
       "      <td>0.0</td>\n",
       "      <td>0.0</td>\n",
       "      <td>0.0</td>\n",
       "      <td>0.0</td>\n",
       "      <td>0.0</td>\n",
       "      <td>0.0</td>\n",
       "      <td>0.0</td>\n",
       "      <td>0.0</td>\n",
       "      <td>0.0</td>\n",
       "    </tr>\n",
       "    <tr>\n",
       "      <th>std</th>\n",
       "      <td>0.0</td>\n",
       "      <td>0.307410</td>\n",
       "      <td>0.0</td>\n",
       "      <td>0.404294</td>\n",
       "      <td>0.300139</td>\n",
       "      <td>0.482118</td>\n",
       "      <td>0.408286</td>\n",
       "      <td>0.0</td>\n",
       "      <td>0.0</td>\n",
       "      <td>0.0</td>\n",
       "      <td>0.499459</td>\n",
       "      <td>0.436375</td>\n",
       "      <td>0.0</td>\n",
       "      <td>0.0</td>\n",
       "      <td>0.0</td>\n",
       "      <td>0.0</td>\n",
       "      <td>0.408286</td>\n",
       "      <td>0.307410</td>\n",
       "      <td>0.307410</td>\n",
       "      <td>0.0</td>\n",
       "      <td>0.307410</td>\n",
       "      <td>0.408286</td>\n",
       "      <td>0.480545</td>\n",
       "      <td>0.0</td>\n",
       "      <td>0.307410</td>\n",
       "      <td>0.408286</td>\n",
       "      <td>0.0</td>\n",
       "      <td>0.0</td>\n",
       "      <td>0.494986</td>\n",
       "      <td>0.408286</td>\n",
       "      <td>0.307410</td>\n",
       "      <td>0.499119</td>\n",
       "      <td>0.496481</td>\n",
       "      <td>0.314415</td>\n",
       "      <td>0.314415</td>\n",
       "      <td>0.307410</td>\n",
       "      <td>0.412164</td>\n",
       "      <td>0.404294</td>\n",
       "      <td>0.314415</td>\n",
       "      <td>0.0</td>\n",
       "      <td>...</td>\n",
       "      <td>0.0</td>\n",
       "      <td>0.0</td>\n",
       "      <td>0.0</td>\n",
       "      <td>0.0</td>\n",
       "      <td>0.307410</td>\n",
       "      <td>0.0</td>\n",
       "      <td>0.0</td>\n",
       "      <td>0.469621</td>\n",
       "      <td>0.0</td>\n",
       "      <td>0.307410</td>\n",
       "      <td>0.307410</td>\n",
       "      <td>0.0</td>\n",
       "      <td>0.0</td>\n",
       "      <td>0.300139</td>\n",
       "      <td>0.314415</td>\n",
       "      <td>0.314415</td>\n",
       "      <td>0.307410</td>\n",
       "      <td>0.0</td>\n",
       "      <td>0.0</td>\n",
       "      <td>0.0</td>\n",
       "      <td>0.0</td>\n",
       "      <td>0.0</td>\n",
       "      <td>0.0</td>\n",
       "      <td>0.314415</td>\n",
       "      <td>0.314415</td>\n",
       "      <td>0.0</td>\n",
       "      <td>0.0</td>\n",
       "      <td>0.0</td>\n",
       "      <td>0.314415</td>\n",
       "      <td>0.0</td>\n",
       "      <td>0.0</td>\n",
       "      <td>0.0</td>\n",
       "      <td>0.0</td>\n",
       "      <td>0.0</td>\n",
       "      <td>0.0</td>\n",
       "      <td>0.0</td>\n",
       "      <td>0.0</td>\n",
       "      <td>0.0</td>\n",
       "      <td>0.0</td>\n",
       "      <td>0.0</td>\n",
       "    </tr>\n",
       "    <tr>\n",
       "      <th>min</th>\n",
       "      <td>0.0</td>\n",
       "      <td>0.000000</td>\n",
       "      <td>0.0</td>\n",
       "      <td>0.000000</td>\n",
       "      <td>0.000000</td>\n",
       "      <td>0.000000</td>\n",
       "      <td>0.000000</td>\n",
       "      <td>0.0</td>\n",
       "      <td>0.0</td>\n",
       "      <td>0.0</td>\n",
       "      <td>0.000000</td>\n",
       "      <td>0.000000</td>\n",
       "      <td>0.0</td>\n",
       "      <td>0.0</td>\n",
       "      <td>0.0</td>\n",
       "      <td>0.0</td>\n",
       "      <td>0.000000</td>\n",
       "      <td>0.000000</td>\n",
       "      <td>0.000000</td>\n",
       "      <td>0.0</td>\n",
       "      <td>0.000000</td>\n",
       "      <td>0.000000</td>\n",
       "      <td>0.000000</td>\n",
       "      <td>0.0</td>\n",
       "      <td>0.000000</td>\n",
       "      <td>0.000000</td>\n",
       "      <td>0.0</td>\n",
       "      <td>0.0</td>\n",
       "      <td>0.000000</td>\n",
       "      <td>0.000000</td>\n",
       "      <td>0.000000</td>\n",
       "      <td>0.000000</td>\n",
       "      <td>0.000000</td>\n",
       "      <td>0.000000</td>\n",
       "      <td>0.000000</td>\n",
       "      <td>0.000000</td>\n",
       "      <td>0.000000</td>\n",
       "      <td>0.000000</td>\n",
       "      <td>0.000000</td>\n",
       "      <td>0.0</td>\n",
       "      <td>...</td>\n",
       "      <td>0.0</td>\n",
       "      <td>0.0</td>\n",
       "      <td>0.0</td>\n",
       "      <td>0.0</td>\n",
       "      <td>0.000000</td>\n",
       "      <td>0.0</td>\n",
       "      <td>0.0</td>\n",
       "      <td>0.000000</td>\n",
       "      <td>0.0</td>\n",
       "      <td>0.000000</td>\n",
       "      <td>0.000000</td>\n",
       "      <td>0.0</td>\n",
       "      <td>0.0</td>\n",
       "      <td>0.000000</td>\n",
       "      <td>0.000000</td>\n",
       "      <td>0.000000</td>\n",
       "      <td>0.000000</td>\n",
       "      <td>0.0</td>\n",
       "      <td>0.0</td>\n",
       "      <td>0.0</td>\n",
       "      <td>0.0</td>\n",
       "      <td>0.0</td>\n",
       "      <td>0.0</td>\n",
       "      <td>0.000000</td>\n",
       "      <td>0.000000</td>\n",
       "      <td>0.0</td>\n",
       "      <td>0.0</td>\n",
       "      <td>0.0</td>\n",
       "      <td>0.000000</td>\n",
       "      <td>0.0</td>\n",
       "      <td>0.0</td>\n",
       "      <td>0.0</td>\n",
       "      <td>0.0</td>\n",
       "      <td>0.0</td>\n",
       "      <td>0.0</td>\n",
       "      <td>0.0</td>\n",
       "      <td>0.0</td>\n",
       "      <td>0.0</td>\n",
       "      <td>0.0</td>\n",
       "      <td>0.0</td>\n",
       "    </tr>\n",
       "    <tr>\n",
       "      <th>25%</th>\n",
       "      <td>0.0</td>\n",
       "      <td>0.000000</td>\n",
       "      <td>0.0</td>\n",
       "      <td>0.000000</td>\n",
       "      <td>0.000000</td>\n",
       "      <td>0.000000</td>\n",
       "      <td>0.000000</td>\n",
       "      <td>0.0</td>\n",
       "      <td>0.0</td>\n",
       "      <td>0.0</td>\n",
       "      <td>0.000000</td>\n",
       "      <td>0.000000</td>\n",
       "      <td>0.0</td>\n",
       "      <td>0.0</td>\n",
       "      <td>0.0</td>\n",
       "      <td>0.0</td>\n",
       "      <td>0.000000</td>\n",
       "      <td>0.000000</td>\n",
       "      <td>0.000000</td>\n",
       "      <td>0.0</td>\n",
       "      <td>0.000000</td>\n",
       "      <td>0.000000</td>\n",
       "      <td>0.000000</td>\n",
       "      <td>0.0</td>\n",
       "      <td>0.000000</td>\n",
       "      <td>0.000000</td>\n",
       "      <td>0.0</td>\n",
       "      <td>0.0</td>\n",
       "      <td>0.000000</td>\n",
       "      <td>0.000000</td>\n",
       "      <td>0.000000</td>\n",
       "      <td>0.000000</td>\n",
       "      <td>0.000000</td>\n",
       "      <td>0.000000</td>\n",
       "      <td>0.000000</td>\n",
       "      <td>0.000000</td>\n",
       "      <td>0.000000</td>\n",
       "      <td>0.000000</td>\n",
       "      <td>0.000000</td>\n",
       "      <td>0.0</td>\n",
       "      <td>...</td>\n",
       "      <td>0.0</td>\n",
       "      <td>0.0</td>\n",
       "      <td>0.0</td>\n",
       "      <td>0.0</td>\n",
       "      <td>0.000000</td>\n",
       "      <td>0.0</td>\n",
       "      <td>0.0</td>\n",
       "      <td>0.000000</td>\n",
       "      <td>0.0</td>\n",
       "      <td>0.000000</td>\n",
       "      <td>0.000000</td>\n",
       "      <td>0.0</td>\n",
       "      <td>0.0</td>\n",
       "      <td>0.000000</td>\n",
       "      <td>0.000000</td>\n",
       "      <td>0.000000</td>\n",
       "      <td>0.000000</td>\n",
       "      <td>0.0</td>\n",
       "      <td>0.0</td>\n",
       "      <td>0.0</td>\n",
       "      <td>0.0</td>\n",
       "      <td>0.0</td>\n",
       "      <td>0.0</td>\n",
       "      <td>0.000000</td>\n",
       "      <td>0.000000</td>\n",
       "      <td>0.0</td>\n",
       "      <td>0.0</td>\n",
       "      <td>0.0</td>\n",
       "      <td>0.000000</td>\n",
       "      <td>0.0</td>\n",
       "      <td>0.0</td>\n",
       "      <td>0.0</td>\n",
       "      <td>0.0</td>\n",
       "      <td>0.0</td>\n",
       "      <td>0.0</td>\n",
       "      <td>0.0</td>\n",
       "      <td>0.0</td>\n",
       "      <td>0.0</td>\n",
       "      <td>0.0</td>\n",
       "      <td>0.0</td>\n",
       "    </tr>\n",
       "    <tr>\n",
       "      <th>50%</th>\n",
       "      <td>0.0</td>\n",
       "      <td>0.000000</td>\n",
       "      <td>0.0</td>\n",
       "      <td>0.000000</td>\n",
       "      <td>0.000000</td>\n",
       "      <td>1.000000</td>\n",
       "      <td>0.000000</td>\n",
       "      <td>0.0</td>\n",
       "      <td>0.0</td>\n",
       "      <td>0.0</td>\n",
       "      <td>1.000000</td>\n",
       "      <td>1.000000</td>\n",
       "      <td>0.0</td>\n",
       "      <td>0.0</td>\n",
       "      <td>0.0</td>\n",
       "      <td>0.0</td>\n",
       "      <td>0.000000</td>\n",
       "      <td>0.000000</td>\n",
       "      <td>0.000000</td>\n",
       "      <td>0.0</td>\n",
       "      <td>0.000000</td>\n",
       "      <td>0.000000</td>\n",
       "      <td>1.000000</td>\n",
       "      <td>0.0</td>\n",
       "      <td>0.000000</td>\n",
       "      <td>0.000000</td>\n",
       "      <td>0.0</td>\n",
       "      <td>0.0</td>\n",
       "      <td>0.000000</td>\n",
       "      <td>0.000000</td>\n",
       "      <td>0.000000</td>\n",
       "      <td>1.000000</td>\n",
       "      <td>0.000000</td>\n",
       "      <td>0.000000</td>\n",
       "      <td>0.000000</td>\n",
       "      <td>0.000000</td>\n",
       "      <td>0.000000</td>\n",
       "      <td>0.000000</td>\n",
       "      <td>0.000000</td>\n",
       "      <td>0.0</td>\n",
       "      <td>...</td>\n",
       "      <td>0.0</td>\n",
       "      <td>0.0</td>\n",
       "      <td>0.0</td>\n",
       "      <td>0.0</td>\n",
       "      <td>0.000000</td>\n",
       "      <td>0.0</td>\n",
       "      <td>0.0</td>\n",
       "      <td>0.000000</td>\n",
       "      <td>0.0</td>\n",
       "      <td>0.000000</td>\n",
       "      <td>0.000000</td>\n",
       "      <td>0.0</td>\n",
       "      <td>0.0</td>\n",
       "      <td>0.000000</td>\n",
       "      <td>0.000000</td>\n",
       "      <td>0.000000</td>\n",
       "      <td>0.000000</td>\n",
       "      <td>0.0</td>\n",
       "      <td>0.0</td>\n",
       "      <td>0.0</td>\n",
       "      <td>0.0</td>\n",
       "      <td>0.0</td>\n",
       "      <td>0.0</td>\n",
       "      <td>0.000000</td>\n",
       "      <td>0.000000</td>\n",
       "      <td>0.0</td>\n",
       "      <td>0.0</td>\n",
       "      <td>0.0</td>\n",
       "      <td>0.000000</td>\n",
       "      <td>0.0</td>\n",
       "      <td>0.0</td>\n",
       "      <td>0.0</td>\n",
       "      <td>0.0</td>\n",
       "      <td>0.0</td>\n",
       "      <td>0.0</td>\n",
       "      <td>0.0</td>\n",
       "      <td>0.0</td>\n",
       "      <td>0.0</td>\n",
       "      <td>0.0</td>\n",
       "      <td>0.0</td>\n",
       "    </tr>\n",
       "    <tr>\n",
       "      <th>75%</th>\n",
       "      <td>0.0</td>\n",
       "      <td>0.000000</td>\n",
       "      <td>0.0</td>\n",
       "      <td>0.000000</td>\n",
       "      <td>0.000000</td>\n",
       "      <td>1.000000</td>\n",
       "      <td>0.000000</td>\n",
       "      <td>0.0</td>\n",
       "      <td>0.0</td>\n",
       "      <td>0.0</td>\n",
       "      <td>1.000000</td>\n",
       "      <td>1.000000</td>\n",
       "      <td>0.0</td>\n",
       "      <td>0.0</td>\n",
       "      <td>0.0</td>\n",
       "      <td>0.0</td>\n",
       "      <td>0.000000</td>\n",
       "      <td>0.000000</td>\n",
       "      <td>0.000000</td>\n",
       "      <td>0.0</td>\n",
       "      <td>0.000000</td>\n",
       "      <td>0.000000</td>\n",
       "      <td>1.000000</td>\n",
       "      <td>0.0</td>\n",
       "      <td>0.000000</td>\n",
       "      <td>0.000000</td>\n",
       "      <td>0.0</td>\n",
       "      <td>0.0</td>\n",
       "      <td>1.000000</td>\n",
       "      <td>0.000000</td>\n",
       "      <td>0.000000</td>\n",
       "      <td>1.000000</td>\n",
       "      <td>1.000000</td>\n",
       "      <td>0.000000</td>\n",
       "      <td>0.000000</td>\n",
       "      <td>0.000000</td>\n",
       "      <td>0.000000</td>\n",
       "      <td>0.000000</td>\n",
       "      <td>0.000000</td>\n",
       "      <td>0.0</td>\n",
       "      <td>...</td>\n",
       "      <td>0.0</td>\n",
       "      <td>0.0</td>\n",
       "      <td>0.0</td>\n",
       "      <td>0.0</td>\n",
       "      <td>0.000000</td>\n",
       "      <td>0.0</td>\n",
       "      <td>0.0</td>\n",
       "      <td>1.000000</td>\n",
       "      <td>0.0</td>\n",
       "      <td>0.000000</td>\n",
       "      <td>0.000000</td>\n",
       "      <td>0.0</td>\n",
       "      <td>0.0</td>\n",
       "      <td>0.000000</td>\n",
       "      <td>0.000000</td>\n",
       "      <td>0.000000</td>\n",
       "      <td>0.000000</td>\n",
       "      <td>0.0</td>\n",
       "      <td>0.0</td>\n",
       "      <td>0.0</td>\n",
       "      <td>0.0</td>\n",
       "      <td>0.0</td>\n",
       "      <td>0.0</td>\n",
       "      <td>0.000000</td>\n",
       "      <td>0.000000</td>\n",
       "      <td>0.0</td>\n",
       "      <td>0.0</td>\n",
       "      <td>0.0</td>\n",
       "      <td>0.000000</td>\n",
       "      <td>0.0</td>\n",
       "      <td>0.0</td>\n",
       "      <td>0.0</td>\n",
       "      <td>0.0</td>\n",
       "      <td>0.0</td>\n",
       "      <td>0.0</td>\n",
       "      <td>0.0</td>\n",
       "      <td>0.0</td>\n",
       "      <td>0.0</td>\n",
       "      <td>0.0</td>\n",
       "      <td>0.0</td>\n",
       "    </tr>\n",
       "    <tr>\n",
       "      <th>max</th>\n",
       "      <td>0.0</td>\n",
       "      <td>1.000000</td>\n",
       "      <td>0.0</td>\n",
       "      <td>1.000000</td>\n",
       "      <td>1.000000</td>\n",
       "      <td>1.000000</td>\n",
       "      <td>1.000000</td>\n",
       "      <td>0.0</td>\n",
       "      <td>0.0</td>\n",
       "      <td>0.0</td>\n",
       "      <td>1.000000</td>\n",
       "      <td>1.000000</td>\n",
       "      <td>0.0</td>\n",
       "      <td>0.0</td>\n",
       "      <td>0.0</td>\n",
       "      <td>0.0</td>\n",
       "      <td>1.000000</td>\n",
       "      <td>1.000000</td>\n",
       "      <td>1.000000</td>\n",
       "      <td>0.0</td>\n",
       "      <td>1.000000</td>\n",
       "      <td>1.000000</td>\n",
       "      <td>1.000000</td>\n",
       "      <td>0.0</td>\n",
       "      <td>1.000000</td>\n",
       "      <td>1.000000</td>\n",
       "      <td>0.0</td>\n",
       "      <td>0.0</td>\n",
       "      <td>1.000000</td>\n",
       "      <td>1.000000</td>\n",
       "      <td>1.000000</td>\n",
       "      <td>1.000000</td>\n",
       "      <td>1.000000</td>\n",
       "      <td>1.000000</td>\n",
       "      <td>1.000000</td>\n",
       "      <td>1.000000</td>\n",
       "      <td>1.000000</td>\n",
       "      <td>1.000000</td>\n",
       "      <td>1.000000</td>\n",
       "      <td>0.0</td>\n",
       "      <td>...</td>\n",
       "      <td>0.0</td>\n",
       "      <td>0.0</td>\n",
       "      <td>0.0</td>\n",
       "      <td>0.0</td>\n",
       "      <td>1.000000</td>\n",
       "      <td>0.0</td>\n",
       "      <td>0.0</td>\n",
       "      <td>1.000000</td>\n",
       "      <td>0.0</td>\n",
       "      <td>1.000000</td>\n",
       "      <td>1.000000</td>\n",
       "      <td>0.0</td>\n",
       "      <td>0.0</td>\n",
       "      <td>1.000000</td>\n",
       "      <td>1.000000</td>\n",
       "      <td>1.000000</td>\n",
       "      <td>1.000000</td>\n",
       "      <td>0.0</td>\n",
       "      <td>0.0</td>\n",
       "      <td>0.0</td>\n",
       "      <td>0.0</td>\n",
       "      <td>0.0</td>\n",
       "      <td>0.0</td>\n",
       "      <td>1.000000</td>\n",
       "      <td>1.000000</td>\n",
       "      <td>0.0</td>\n",
       "      <td>0.0</td>\n",
       "      <td>0.0</td>\n",
       "      <td>1.000000</td>\n",
       "      <td>0.0</td>\n",
       "      <td>0.0</td>\n",
       "      <td>0.0</td>\n",
       "      <td>0.0</td>\n",
       "      <td>0.0</td>\n",
       "      <td>0.0</td>\n",
       "      <td>0.0</td>\n",
       "      <td>0.0</td>\n",
       "      <td>0.0</td>\n",
       "      <td>0.0</td>\n",
       "      <td>0.0</td>\n",
       "    </tr>\n",
       "  </tbody>\n",
       "</table>\n",
       "<p>8 rows × 127 columns</p>\n",
       "</div>"
      ],
      "text/plain": [
       "       itching    skin_rash  ...  blister  yellow_crust_ooze\n",
       "count   1080.0  1080.000000  ...   1080.0             1080.0\n",
       "mean       0.0     0.105556  ...      0.0                0.0\n",
       "std        0.0     0.307410  ...      0.0                0.0\n",
       "min        0.0     0.000000  ...      0.0                0.0\n",
       "25%        0.0     0.000000  ...      0.0                0.0\n",
       "50%        0.0     0.000000  ...      0.0                0.0\n",
       "75%        0.0     0.000000  ...      0.0                0.0\n",
       "max        0.0     1.000000  ...      0.0                0.0\n",
       "\n",
       "[8 rows x 127 columns]"
      ]
     },
     "execution_count": 12,
     "metadata": {},
     "output_type": "execute_result"
    }
   ],
   "source": [
    "#Describe of the x data\n",
    "x.describe()"
   ]
  },
  {
   "cell_type": "code",
   "execution_count": null,
   "metadata": {
    "colab": {
     "base_uri": "https://localhost:8080/"
    },
    "id": "LoKOatoFw16Q",
    "outputId": "ccfa3a14-62a7-4891-9ebd-dab87cbf83ed"
   },
   "outputs": [
    {
     "data": {
      "text/plain": [
       "itching                 1\n",
       "skin_rash               2\n",
       "nodal_skin_eruptions    1\n",
       "continuous_sneezing     2\n",
       "shivering               2\n",
       "dtype: int64"
      ]
     },
     "execution_count": 60,
     "metadata": {},
     "output_type": "execute_result"
    }
   ],
   "source": [
    "#Getting the column with number of unique value they are having\n",
    "nunique = x.apply(pd.Series.nunique)\n",
    "#First five column name\n",
    "nunique.head()"
   ]
  },
  {
   "cell_type": "code",
   "execution_count": null,
   "metadata": {
    "colab": {
     "base_uri": "https://localhost:8080/"
    },
    "id": "Ne7FIxgDw16Q",
    "outputId": "7ed2a259-5edf-4eaa-d0a9-517ca4e9f6da"
   },
   "outputs": [
    {
     "data": {
      "text/plain": [
       "Index(['itching', 'nodal_skin_eruptions', 'stomach_pain', 'acidity',\n",
       "       'ulcers_on_tongue', 'weight_gain', 'anxiety', 'cold_hands_and_feets',\n",
       "       'mood_swings', 'patches_in_throat', 'sunken_eyes', 'dehydration',\n",
       "       'indigestion', 'yellow_urine', 'fluid_overload', 'swelling_of_stomach',\n",
       "       'weakness_in_limbs', 'fast_heart_rate', 'pain_during_bowel_movements',\n",
       "       'pain_in_anal_region', 'bloody_stool', 'irritation_in_anus',\n",
       "       'neck_pain', 'dizziness', 'cramps', 'bruising', 'swollen_legs',\n",
       "       'swollen_blood_vessels', 'puffy_face_and_eyes', 'enlarged_thyroid',\n",
       "       'brittle_nails', 'swollen_extremeties', 'extra_marital_contacts',\n",
       "       'drying_and_tingling_lips', 'slurred_speech', 'knee_pain',\n",
       "       'hip_joint_pain', 'muscle_weakness', 'stiff_neck', 'swelling_joints',\n",
       "       'movement_stiffness', 'spinning_movements', 'loss_of_balance',\n",
       "       'unsteadiness', 'weakness_of_one_body_side', 'bladder_discomfort',\n",
       "       'foul_smell_of urine', 'continuous_feel_of_urine', 'passage_of_gases',\n",
       "       'internal_itching', 'depression', 'irritability', 'altered_sensorium',\n",
       "       'abnormal_menstruation', 'dischromic _patches', 'mucoid_sputum',\n",
       "       'rusty_sputum', 'lack_of_concentration', 'visual_disturbances',\n",
       "       'receiving_blood_transfusion', 'receiving_unsterile_injections',\n",
       "       'distention_of_abdomen', 'history_of_alcohol_consumption',\n",
       "       'fluid_overload.1', 'prominent_veins_on_calf', 'palpitations',\n",
       "       'painful_walking', 'pus_filled_pimples', 'scurring', 'skin_peeling',\n",
       "       'silver_like_dusting', 'small_dents_in_nails', 'inflammatory_nails',\n",
       "       'blister', 'yellow_crust_ooze'],\n",
       "      dtype='object')"
      ]
     },
     "execution_count": 61,
     "metadata": {},
     "output_type": "execute_result"
    }
   ],
   "source": [
    "#list of columns with same value in all the rows\n",
    "cols_to_drop = nunique[nunique == 1].index\n",
    "cols_to_drop"
   ]
  },
  {
   "cell_type": "code",
   "execution_count": null,
   "metadata": {
    "id": "4c2T9KLmw16R"
   },
   "outputs": [],
   "source": [
    "#Removing the columns with the same value in all the records\n",
    "x_filter=x.drop(cols_to_drop, axis=1)"
   ]
  },
  {
   "cell_type": "code",
   "execution_count": null,
   "metadata": {
    "colab": {
     "base_uri": "https://localhost:8080/",
     "height": 226
    },
    "id": "ebxXIilAw16R",
    "outputId": "7db617db-cab4-4676-ad1b-1811f43ed54d"
   },
   "outputs": [
    {
     "data": {
      "text/html": [
       "<div>\n",
       "<style scoped>\n",
       "    .dataframe tbody tr th:only-of-type {\n",
       "        vertical-align: middle;\n",
       "    }\n",
       "\n",
       "    .dataframe tbody tr th {\n",
       "        vertical-align: top;\n",
       "    }\n",
       "\n",
       "    .dataframe thead th {\n",
       "        text-align: right;\n",
       "    }\n",
       "</style>\n",
       "<table border=\"1\" class=\"dataframe\">\n",
       "  <thead>\n",
       "    <tr style=\"text-align: right;\">\n",
       "      <th></th>\n",
       "      <th>skin_rash</th>\n",
       "      <th>continuous_sneezing</th>\n",
       "      <th>shivering</th>\n",
       "      <th>chills</th>\n",
       "      <th>joint_pain</th>\n",
       "      <th>vomiting</th>\n",
       "      <th>fatigue</th>\n",
       "      <th>weight_loss</th>\n",
       "      <th>restlessness</th>\n",
       "      <th>lethargy</th>\n",
       "      <th>irregular_sugar_level</th>\n",
       "      <th>cough</th>\n",
       "      <th>high_fever</th>\n",
       "      <th>breathlessness</th>\n",
       "      <th>sweating</th>\n",
       "      <th>headache</th>\n",
       "      <th>yellowish_skin</th>\n",
       "      <th>dark_urine</th>\n",
       "      <th>nausea</th>\n",
       "      <th>loss_of_appetite</th>\n",
       "      <th>pain_behind_the_eyes</th>\n",
       "      <th>back_pain</th>\n",
       "      <th>constipation</th>\n",
       "      <th>abdominal_pain</th>\n",
       "      <th>diarrhoea</th>\n",
       "      <th>mild_fever</th>\n",
       "      <th>yellowing_of_eyes</th>\n",
       "      <th>acute_liver_failure</th>\n",
       "      <th>swelled_lymph_nodes</th>\n",
       "      <th>malaise</th>\n",
       "      <th>blurred_and_distorted_vision</th>\n",
       "      <th>phlegm</th>\n",
       "      <th>throat_irritation</th>\n",
       "      <th>redness_of_eyes</th>\n",
       "      <th>sinus_pressure</th>\n",
       "      <th>runny_nose</th>\n",
       "      <th>congestion</th>\n",
       "      <th>chest_pain</th>\n",
       "      <th>obesity</th>\n",
       "      <th>excessive_hunger</th>\n",
       "      <th>loss_of_smell</th>\n",
       "      <th>toxic_look_(typhos)</th>\n",
       "      <th>muscle_pain</th>\n",
       "      <th>red_spots_over_body</th>\n",
       "      <th>belly_pain</th>\n",
       "      <th>watering_from_eyes</th>\n",
       "      <th>increased_appetite</th>\n",
       "      <th>polyuria</th>\n",
       "      <th>family_history</th>\n",
       "      <th>coma</th>\n",
       "      <th>stomach_bleeding</th>\n",
       "      <th>blood_in_sputum</th>\n",
       "    </tr>\n",
       "  </thead>\n",
       "  <tbody>\n",
       "    <tr>\n",
       "      <th>0</th>\n",
       "      <td>0</td>\n",
       "      <td>1</td>\n",
       "      <td>1</td>\n",
       "      <td>1</td>\n",
       "      <td>0</td>\n",
       "      <td>0</td>\n",
       "      <td>0</td>\n",
       "      <td>0</td>\n",
       "      <td>0</td>\n",
       "      <td>0</td>\n",
       "      <td>0</td>\n",
       "      <td>0</td>\n",
       "      <td>0</td>\n",
       "      <td>0</td>\n",
       "      <td>0</td>\n",
       "      <td>0</td>\n",
       "      <td>0</td>\n",
       "      <td>0</td>\n",
       "      <td>0</td>\n",
       "      <td>0</td>\n",
       "      <td>0</td>\n",
       "      <td>0</td>\n",
       "      <td>0</td>\n",
       "      <td>0</td>\n",
       "      <td>0</td>\n",
       "      <td>0</td>\n",
       "      <td>0</td>\n",
       "      <td>0</td>\n",
       "      <td>0</td>\n",
       "      <td>0</td>\n",
       "      <td>0</td>\n",
       "      <td>0</td>\n",
       "      <td>0</td>\n",
       "      <td>0</td>\n",
       "      <td>0</td>\n",
       "      <td>0</td>\n",
       "      <td>0</td>\n",
       "      <td>0</td>\n",
       "      <td>0</td>\n",
       "      <td>0</td>\n",
       "      <td>0</td>\n",
       "      <td>0</td>\n",
       "      <td>0</td>\n",
       "      <td>0</td>\n",
       "      <td>0</td>\n",
       "      <td>1</td>\n",
       "      <td>0</td>\n",
       "      <td>0</td>\n",
       "      <td>0</td>\n",
       "      <td>0</td>\n",
       "      <td>0</td>\n",
       "      <td>0</td>\n",
       "    </tr>\n",
       "    <tr>\n",
       "      <th>1</th>\n",
       "      <td>0</td>\n",
       "      <td>0</td>\n",
       "      <td>1</td>\n",
       "      <td>1</td>\n",
       "      <td>0</td>\n",
       "      <td>0</td>\n",
       "      <td>0</td>\n",
       "      <td>0</td>\n",
       "      <td>0</td>\n",
       "      <td>0</td>\n",
       "      <td>0</td>\n",
       "      <td>0</td>\n",
       "      <td>0</td>\n",
       "      <td>0</td>\n",
       "      <td>0</td>\n",
       "      <td>0</td>\n",
       "      <td>0</td>\n",
       "      <td>0</td>\n",
       "      <td>0</td>\n",
       "      <td>0</td>\n",
       "      <td>0</td>\n",
       "      <td>0</td>\n",
       "      <td>0</td>\n",
       "      <td>0</td>\n",
       "      <td>0</td>\n",
       "      <td>0</td>\n",
       "      <td>0</td>\n",
       "      <td>0</td>\n",
       "      <td>0</td>\n",
       "      <td>0</td>\n",
       "      <td>0</td>\n",
       "      <td>0</td>\n",
       "      <td>0</td>\n",
       "      <td>0</td>\n",
       "      <td>0</td>\n",
       "      <td>0</td>\n",
       "      <td>0</td>\n",
       "      <td>0</td>\n",
       "      <td>0</td>\n",
       "      <td>0</td>\n",
       "      <td>0</td>\n",
       "      <td>0</td>\n",
       "      <td>0</td>\n",
       "      <td>0</td>\n",
       "      <td>0</td>\n",
       "      <td>1</td>\n",
       "      <td>0</td>\n",
       "      <td>0</td>\n",
       "      <td>0</td>\n",
       "      <td>0</td>\n",
       "      <td>0</td>\n",
       "      <td>0</td>\n",
       "    </tr>\n",
       "    <tr>\n",
       "      <th>2</th>\n",
       "      <td>0</td>\n",
       "      <td>1</td>\n",
       "      <td>0</td>\n",
       "      <td>1</td>\n",
       "      <td>0</td>\n",
       "      <td>0</td>\n",
       "      <td>0</td>\n",
       "      <td>0</td>\n",
       "      <td>0</td>\n",
       "      <td>0</td>\n",
       "      <td>0</td>\n",
       "      <td>0</td>\n",
       "      <td>0</td>\n",
       "      <td>0</td>\n",
       "      <td>0</td>\n",
       "      <td>0</td>\n",
       "      <td>0</td>\n",
       "      <td>0</td>\n",
       "      <td>0</td>\n",
       "      <td>0</td>\n",
       "      <td>0</td>\n",
       "      <td>0</td>\n",
       "      <td>0</td>\n",
       "      <td>0</td>\n",
       "      <td>0</td>\n",
       "      <td>0</td>\n",
       "      <td>0</td>\n",
       "      <td>0</td>\n",
       "      <td>0</td>\n",
       "      <td>0</td>\n",
       "      <td>0</td>\n",
       "      <td>0</td>\n",
       "      <td>0</td>\n",
       "      <td>0</td>\n",
       "      <td>0</td>\n",
       "      <td>0</td>\n",
       "      <td>0</td>\n",
       "      <td>0</td>\n",
       "      <td>0</td>\n",
       "      <td>0</td>\n",
       "      <td>0</td>\n",
       "      <td>0</td>\n",
       "      <td>0</td>\n",
       "      <td>0</td>\n",
       "      <td>0</td>\n",
       "      <td>1</td>\n",
       "      <td>0</td>\n",
       "      <td>0</td>\n",
       "      <td>0</td>\n",
       "      <td>0</td>\n",
       "      <td>0</td>\n",
       "      <td>0</td>\n",
       "    </tr>\n",
       "    <tr>\n",
       "      <th>3</th>\n",
       "      <td>0</td>\n",
       "      <td>1</td>\n",
       "      <td>1</td>\n",
       "      <td>0</td>\n",
       "      <td>0</td>\n",
       "      <td>0</td>\n",
       "      <td>0</td>\n",
       "      <td>0</td>\n",
       "      <td>0</td>\n",
       "      <td>0</td>\n",
       "      <td>0</td>\n",
       "      <td>0</td>\n",
       "      <td>0</td>\n",
       "      <td>0</td>\n",
       "      <td>0</td>\n",
       "      <td>0</td>\n",
       "      <td>0</td>\n",
       "      <td>0</td>\n",
       "      <td>0</td>\n",
       "      <td>0</td>\n",
       "      <td>0</td>\n",
       "      <td>0</td>\n",
       "      <td>0</td>\n",
       "      <td>0</td>\n",
       "      <td>0</td>\n",
       "      <td>0</td>\n",
       "      <td>0</td>\n",
       "      <td>0</td>\n",
       "      <td>0</td>\n",
       "      <td>0</td>\n",
       "      <td>0</td>\n",
       "      <td>0</td>\n",
       "      <td>0</td>\n",
       "      <td>0</td>\n",
       "      <td>0</td>\n",
       "      <td>0</td>\n",
       "      <td>0</td>\n",
       "      <td>0</td>\n",
       "      <td>0</td>\n",
       "      <td>0</td>\n",
       "      <td>0</td>\n",
       "      <td>0</td>\n",
       "      <td>0</td>\n",
       "      <td>0</td>\n",
       "      <td>0</td>\n",
       "      <td>1</td>\n",
       "      <td>0</td>\n",
       "      <td>0</td>\n",
       "      <td>0</td>\n",
       "      <td>0</td>\n",
       "      <td>0</td>\n",
       "      <td>0</td>\n",
       "    </tr>\n",
       "    <tr>\n",
       "      <th>4</th>\n",
       "      <td>0</td>\n",
       "      <td>1</td>\n",
       "      <td>1</td>\n",
       "      <td>1</td>\n",
       "      <td>0</td>\n",
       "      <td>0</td>\n",
       "      <td>0</td>\n",
       "      <td>0</td>\n",
       "      <td>0</td>\n",
       "      <td>0</td>\n",
       "      <td>0</td>\n",
       "      <td>0</td>\n",
       "      <td>0</td>\n",
       "      <td>0</td>\n",
       "      <td>0</td>\n",
       "      <td>0</td>\n",
       "      <td>0</td>\n",
       "      <td>0</td>\n",
       "      <td>0</td>\n",
       "      <td>0</td>\n",
       "      <td>0</td>\n",
       "      <td>0</td>\n",
       "      <td>0</td>\n",
       "      <td>0</td>\n",
       "      <td>0</td>\n",
       "      <td>0</td>\n",
       "      <td>0</td>\n",
       "      <td>0</td>\n",
       "      <td>0</td>\n",
       "      <td>0</td>\n",
       "      <td>0</td>\n",
       "      <td>0</td>\n",
       "      <td>0</td>\n",
       "      <td>0</td>\n",
       "      <td>0</td>\n",
       "      <td>0</td>\n",
       "      <td>0</td>\n",
       "      <td>0</td>\n",
       "      <td>0</td>\n",
       "      <td>0</td>\n",
       "      <td>0</td>\n",
       "      <td>0</td>\n",
       "      <td>0</td>\n",
       "      <td>0</td>\n",
       "      <td>0</td>\n",
       "      <td>0</td>\n",
       "      <td>0</td>\n",
       "      <td>0</td>\n",
       "      <td>0</td>\n",
       "      <td>0</td>\n",
       "      <td>0</td>\n",
       "      <td>0</td>\n",
       "    </tr>\n",
       "  </tbody>\n",
       "</table>\n",
       "</div>"
      ],
      "text/plain": [
       "   skin_rash  continuous_sneezing  ...  stomach_bleeding  blood_in_sputum\n",
       "0          0                    1  ...                 0                0\n",
       "1          0                    0  ...                 0                0\n",
       "2          0                    1  ...                 0                0\n",
       "3          0                    1  ...                 0                0\n",
       "4          0                    1  ...                 0                0\n",
       "\n",
       "[5 rows x 52 columns]"
      ]
     },
     "execution_count": 63,
     "metadata": {},
     "output_type": "execute_result"
    }
   ],
   "source": [
    "#First five records of x_filter\n",
    "x_filter.head()"
   ]
  },
  {
   "cell_type": "code",
   "execution_count": null,
   "metadata": {
    "id": "TVakMM3Yw16T",
    "outputId": "5af220a5-5a46-4db7-c3ff-d181779201f8"
   },
   "outputs": [
    {
     "data": {
      "text/html": [
       "<div>\n",
       "<style scoped>\n",
       "    .dataframe tbody tr th:only-of-type {\n",
       "        vertical-align: middle;\n",
       "    }\n",
       "\n",
       "    .dataframe tbody tr th {\n",
       "        vertical-align: top;\n",
       "    }\n",
       "\n",
       "    .dataframe thead th {\n",
       "        text-align: right;\n",
       "    }\n",
       "</style>\n",
       "<table border=\"1\" class=\"dataframe\">\n",
       "  <thead>\n",
       "    <tr style=\"text-align: right;\">\n",
       "      <th></th>\n",
       "      <th>skin_rash</th>\n",
       "      <th>continuous_sneezing</th>\n",
       "      <th>shivering</th>\n",
       "      <th>chills</th>\n",
       "      <th>joint_pain</th>\n",
       "      <th>vomiting</th>\n",
       "      <th>fatigue</th>\n",
       "      <th>weight_loss</th>\n",
       "      <th>restlessness</th>\n",
       "      <th>lethargy</th>\n",
       "      <th>...</th>\n",
       "      <th>muscle_pain</th>\n",
       "      <th>red_spots_over_body</th>\n",
       "      <th>belly_pain</th>\n",
       "      <th>watering_from_eyes</th>\n",
       "      <th>increased_appetite</th>\n",
       "      <th>polyuria</th>\n",
       "      <th>family_history</th>\n",
       "      <th>coma</th>\n",
       "      <th>stomach_bleeding</th>\n",
       "      <th>blood_in_sputum</th>\n",
       "    </tr>\n",
       "  </thead>\n",
       "  <tbody>\n",
       "    <tr>\n",
       "      <th>count</th>\n",
       "      <td>1080.000000</td>\n",
       "      <td>1080.000000</td>\n",
       "      <td>1080.000000</td>\n",
       "      <td>1080.000000</td>\n",
       "      <td>1080.000000</td>\n",
       "      <td>1080.000000</td>\n",
       "      <td>1080.000000</td>\n",
       "      <td>1080.000000</td>\n",
       "      <td>1080.000000</td>\n",
       "      <td>1080.000000</td>\n",
       "      <td>...</td>\n",
       "      <td>1080.000000</td>\n",
       "      <td>1080.000000</td>\n",
       "      <td>1080.000000</td>\n",
       "      <td>1080.000000</td>\n",
       "      <td>1080.000000</td>\n",
       "      <td>1080.000000</td>\n",
       "      <td>1080.000000</td>\n",
       "      <td>1080.000000</td>\n",
       "      <td>1080.000000</td>\n",
       "      <td>1080.000000</td>\n",
       "    </tr>\n",
       "    <tr>\n",
       "      <th>mean</th>\n",
       "      <td>0.105556</td>\n",
       "      <td>0.205556</td>\n",
       "      <td>0.100000</td>\n",
       "      <td>0.633333</td>\n",
       "      <td>0.211111</td>\n",
       "      <td>0.527778</td>\n",
       "      <td>0.744444</td>\n",
       "      <td>0.211111</td>\n",
       "      <td>0.105556</td>\n",
       "      <td>0.105556</td>\n",
       "      <td>...</td>\n",
       "      <td>0.327778</td>\n",
       "      <td>0.105556</td>\n",
       "      <td>0.105556</td>\n",
       "      <td>0.100000</td>\n",
       "      <td>0.111111</td>\n",
       "      <td>0.111111</td>\n",
       "      <td>0.105556</td>\n",
       "      <td>0.111111</td>\n",
       "      <td>0.111111</td>\n",
       "      <td>0.111111</td>\n",
       "    </tr>\n",
       "    <tr>\n",
       "      <th>std</th>\n",
       "      <td>0.307410</td>\n",
       "      <td>0.404294</td>\n",
       "      <td>0.300139</td>\n",
       "      <td>0.482118</td>\n",
       "      <td>0.408286</td>\n",
       "      <td>0.499459</td>\n",
       "      <td>0.436375</td>\n",
       "      <td>0.408286</td>\n",
       "      <td>0.307410</td>\n",
       "      <td>0.307410</td>\n",
       "      <td>...</td>\n",
       "      <td>0.469621</td>\n",
       "      <td>0.307410</td>\n",
       "      <td>0.307410</td>\n",
       "      <td>0.300139</td>\n",
       "      <td>0.314415</td>\n",
       "      <td>0.314415</td>\n",
       "      <td>0.307410</td>\n",
       "      <td>0.314415</td>\n",
       "      <td>0.314415</td>\n",
       "      <td>0.314415</td>\n",
       "    </tr>\n",
       "    <tr>\n",
       "      <th>min</th>\n",
       "      <td>0.000000</td>\n",
       "      <td>0.000000</td>\n",
       "      <td>0.000000</td>\n",
       "      <td>0.000000</td>\n",
       "      <td>0.000000</td>\n",
       "      <td>0.000000</td>\n",
       "      <td>0.000000</td>\n",
       "      <td>0.000000</td>\n",
       "      <td>0.000000</td>\n",
       "      <td>0.000000</td>\n",
       "      <td>...</td>\n",
       "      <td>0.000000</td>\n",
       "      <td>0.000000</td>\n",
       "      <td>0.000000</td>\n",
       "      <td>0.000000</td>\n",
       "      <td>0.000000</td>\n",
       "      <td>0.000000</td>\n",
       "      <td>0.000000</td>\n",
       "      <td>0.000000</td>\n",
       "      <td>0.000000</td>\n",
       "      <td>0.000000</td>\n",
       "    </tr>\n",
       "    <tr>\n",
       "      <th>25%</th>\n",
       "      <td>0.000000</td>\n",
       "      <td>0.000000</td>\n",
       "      <td>0.000000</td>\n",
       "      <td>0.000000</td>\n",
       "      <td>0.000000</td>\n",
       "      <td>0.000000</td>\n",
       "      <td>0.000000</td>\n",
       "      <td>0.000000</td>\n",
       "      <td>0.000000</td>\n",
       "      <td>0.000000</td>\n",
       "      <td>...</td>\n",
       "      <td>0.000000</td>\n",
       "      <td>0.000000</td>\n",
       "      <td>0.000000</td>\n",
       "      <td>0.000000</td>\n",
       "      <td>0.000000</td>\n",
       "      <td>0.000000</td>\n",
       "      <td>0.000000</td>\n",
       "      <td>0.000000</td>\n",
       "      <td>0.000000</td>\n",
       "      <td>0.000000</td>\n",
       "    </tr>\n",
       "    <tr>\n",
       "      <th>50%</th>\n",
       "      <td>0.000000</td>\n",
       "      <td>0.000000</td>\n",
       "      <td>0.000000</td>\n",
       "      <td>1.000000</td>\n",
       "      <td>0.000000</td>\n",
       "      <td>1.000000</td>\n",
       "      <td>1.000000</td>\n",
       "      <td>0.000000</td>\n",
       "      <td>0.000000</td>\n",
       "      <td>0.000000</td>\n",
       "      <td>...</td>\n",
       "      <td>0.000000</td>\n",
       "      <td>0.000000</td>\n",
       "      <td>0.000000</td>\n",
       "      <td>0.000000</td>\n",
       "      <td>0.000000</td>\n",
       "      <td>0.000000</td>\n",
       "      <td>0.000000</td>\n",
       "      <td>0.000000</td>\n",
       "      <td>0.000000</td>\n",
       "      <td>0.000000</td>\n",
       "    </tr>\n",
       "    <tr>\n",
       "      <th>75%</th>\n",
       "      <td>0.000000</td>\n",
       "      <td>0.000000</td>\n",
       "      <td>0.000000</td>\n",
       "      <td>1.000000</td>\n",
       "      <td>0.000000</td>\n",
       "      <td>1.000000</td>\n",
       "      <td>1.000000</td>\n",
       "      <td>0.000000</td>\n",
       "      <td>0.000000</td>\n",
       "      <td>0.000000</td>\n",
       "      <td>...</td>\n",
       "      <td>1.000000</td>\n",
       "      <td>0.000000</td>\n",
       "      <td>0.000000</td>\n",
       "      <td>0.000000</td>\n",
       "      <td>0.000000</td>\n",
       "      <td>0.000000</td>\n",
       "      <td>0.000000</td>\n",
       "      <td>0.000000</td>\n",
       "      <td>0.000000</td>\n",
       "      <td>0.000000</td>\n",
       "    </tr>\n",
       "    <tr>\n",
       "      <th>max</th>\n",
       "      <td>1.000000</td>\n",
       "      <td>1.000000</td>\n",
       "      <td>1.000000</td>\n",
       "      <td>1.000000</td>\n",
       "      <td>1.000000</td>\n",
       "      <td>1.000000</td>\n",
       "      <td>1.000000</td>\n",
       "      <td>1.000000</td>\n",
       "      <td>1.000000</td>\n",
       "      <td>1.000000</td>\n",
       "      <td>...</td>\n",
       "      <td>1.000000</td>\n",
       "      <td>1.000000</td>\n",
       "      <td>1.000000</td>\n",
       "      <td>1.000000</td>\n",
       "      <td>1.000000</td>\n",
       "      <td>1.000000</td>\n",
       "      <td>1.000000</td>\n",
       "      <td>1.000000</td>\n",
       "      <td>1.000000</td>\n",
       "      <td>1.000000</td>\n",
       "    </tr>\n",
       "  </tbody>\n",
       "</table>\n",
       "<p>8 rows × 52 columns</p>\n",
       "</div>"
      ],
      "text/plain": [
       "         skin_rash  continuous_sneezing    shivering       chills  \\\n",
       "count  1080.000000          1080.000000  1080.000000  1080.000000   \n",
       "mean      0.105556             0.205556     0.100000     0.633333   \n",
       "std       0.307410             0.404294     0.300139     0.482118   \n",
       "min       0.000000             0.000000     0.000000     0.000000   \n",
       "25%       0.000000             0.000000     0.000000     0.000000   \n",
       "50%       0.000000             0.000000     0.000000     1.000000   \n",
       "75%       0.000000             0.000000     0.000000     1.000000   \n",
       "max       1.000000             1.000000     1.000000     1.000000   \n",
       "\n",
       "        joint_pain     vomiting      fatigue  weight_loss  restlessness  \\\n",
       "count  1080.000000  1080.000000  1080.000000  1080.000000   1080.000000   \n",
       "mean      0.211111     0.527778     0.744444     0.211111      0.105556   \n",
       "std       0.408286     0.499459     0.436375     0.408286      0.307410   \n",
       "min       0.000000     0.000000     0.000000     0.000000      0.000000   \n",
       "25%       0.000000     0.000000     0.000000     0.000000      0.000000   \n",
       "50%       0.000000     1.000000     1.000000     0.000000      0.000000   \n",
       "75%       0.000000     1.000000     1.000000     0.000000      0.000000   \n",
       "max       1.000000     1.000000     1.000000     1.000000      1.000000   \n",
       "\n",
       "          lethargy  ...  muscle_pain  red_spots_over_body   belly_pain  \\\n",
       "count  1080.000000  ...  1080.000000          1080.000000  1080.000000   \n",
       "mean      0.105556  ...     0.327778             0.105556     0.105556   \n",
       "std       0.307410  ...     0.469621             0.307410     0.307410   \n",
       "min       0.000000  ...     0.000000             0.000000     0.000000   \n",
       "25%       0.000000  ...     0.000000             0.000000     0.000000   \n",
       "50%       0.000000  ...     0.000000             0.000000     0.000000   \n",
       "75%       0.000000  ...     1.000000             0.000000     0.000000   \n",
       "max       1.000000  ...     1.000000             1.000000     1.000000   \n",
       "\n",
       "       watering_from_eyes  increased_appetite     polyuria  family_history  \\\n",
       "count         1080.000000         1080.000000  1080.000000     1080.000000   \n",
       "mean             0.100000            0.111111     0.111111        0.105556   \n",
       "std              0.300139            0.314415     0.314415        0.307410   \n",
       "min              0.000000            0.000000     0.000000        0.000000   \n",
       "25%              0.000000            0.000000     0.000000        0.000000   \n",
       "50%              0.000000            0.000000     0.000000        0.000000   \n",
       "75%              0.000000            0.000000     0.000000        0.000000   \n",
       "max              1.000000            1.000000     1.000000        1.000000   \n",
       "\n",
       "              coma  stomach_bleeding  blood_in_sputum  \n",
       "count  1080.000000       1080.000000      1080.000000  \n",
       "mean      0.111111          0.111111         0.111111  \n",
       "std       0.314415          0.314415         0.314415  \n",
       "min       0.000000          0.000000         0.000000  \n",
       "25%       0.000000          0.000000         0.000000  \n",
       "50%       0.000000          0.000000         0.000000  \n",
       "75%       0.000000          0.000000         0.000000  \n",
       "max       1.000000          1.000000         1.000000  \n",
       "\n",
       "[8 rows x 52 columns]"
      ]
     },
     "execution_count": 354,
     "metadata": {},
     "output_type": "execute_result"
    }
   ],
   "source": [
    "#Describe fun for x_filter\n",
    "x_filter.describe()"
   ]
  },
  {
   "cell_type": "code",
   "execution_count": null,
   "metadata": {
    "colab": {
     "base_uri": "https://localhost:8080/",
     "height": 443
    },
    "id": "dXtfrw3yw16T",
    "outputId": "238e6b08-5f8e-4559-e939-d1becc8f5eda"
   },
   "outputs": [
    {
     "data": {
      "text/html": [
       "<div>\n",
       "<style scoped>\n",
       "    .dataframe tbody tr th:only-of-type {\n",
       "        vertical-align: middle;\n",
       "    }\n",
       "\n",
       "    .dataframe tbody tr th {\n",
       "        vertical-align: top;\n",
       "    }\n",
       "\n",
       "    .dataframe thead th {\n",
       "        text-align: right;\n",
       "    }\n",
       "</style>\n",
       "<table border=\"1\" class=\"dataframe\">\n",
       "  <thead>\n",
       "    <tr style=\"text-align: right;\">\n",
       "      <th></th>\n",
       "      <th>skin_rash</th>\n",
       "      <th>continuous_sneezing</th>\n",
       "      <th>shivering</th>\n",
       "      <th>chills</th>\n",
       "      <th>joint_pain</th>\n",
       "      <th>vomiting</th>\n",
       "      <th>fatigue</th>\n",
       "      <th>weight_loss</th>\n",
       "      <th>restlessness</th>\n",
       "      <th>lethargy</th>\n",
       "      <th>irregular_sugar_level</th>\n",
       "      <th>cough</th>\n",
       "      <th>high_fever</th>\n",
       "      <th>breathlessness</th>\n",
       "      <th>sweating</th>\n",
       "      <th>headache</th>\n",
       "      <th>yellowish_skin</th>\n",
       "      <th>dark_urine</th>\n",
       "      <th>nausea</th>\n",
       "      <th>loss_of_appetite</th>\n",
       "      <th>pain_behind_the_eyes</th>\n",
       "      <th>back_pain</th>\n",
       "      <th>constipation</th>\n",
       "      <th>abdominal_pain</th>\n",
       "      <th>diarrhoea</th>\n",
       "      <th>mild_fever</th>\n",
       "      <th>yellowing_of_eyes</th>\n",
       "      <th>acute_liver_failure</th>\n",
       "      <th>swelled_lymph_nodes</th>\n",
       "      <th>malaise</th>\n",
       "      <th>blurred_and_distorted_vision</th>\n",
       "      <th>phlegm</th>\n",
       "      <th>throat_irritation</th>\n",
       "      <th>redness_of_eyes</th>\n",
       "      <th>sinus_pressure</th>\n",
       "      <th>runny_nose</th>\n",
       "      <th>congestion</th>\n",
       "      <th>chest_pain</th>\n",
       "      <th>obesity</th>\n",
       "      <th>excessive_hunger</th>\n",
       "      <th>loss_of_smell</th>\n",
       "      <th>toxic_look_(typhos)</th>\n",
       "      <th>muscle_pain</th>\n",
       "      <th>red_spots_over_body</th>\n",
       "      <th>belly_pain</th>\n",
       "      <th>watering_from_eyes</th>\n",
       "      <th>increased_appetite</th>\n",
       "      <th>polyuria</th>\n",
       "      <th>family_history</th>\n",
       "      <th>coma</th>\n",
       "      <th>stomach_bleeding</th>\n",
       "      <th>blood_in_sputum</th>\n",
       "    </tr>\n",
       "  </thead>\n",
       "  <tbody>\n",
       "    <tr>\n",
       "      <th>0</th>\n",
       "      <td>0</td>\n",
       "      <td>1</td>\n",
       "      <td>1</td>\n",
       "      <td>1</td>\n",
       "      <td>0</td>\n",
       "      <td>0</td>\n",
       "      <td>0</td>\n",
       "      <td>0</td>\n",
       "      <td>0</td>\n",
       "      <td>0</td>\n",
       "      <td>0</td>\n",
       "      <td>0</td>\n",
       "      <td>0</td>\n",
       "      <td>0</td>\n",
       "      <td>0</td>\n",
       "      <td>0</td>\n",
       "      <td>0</td>\n",
       "      <td>0</td>\n",
       "      <td>0</td>\n",
       "      <td>0</td>\n",
       "      <td>0</td>\n",
       "      <td>0</td>\n",
       "      <td>0</td>\n",
       "      <td>0</td>\n",
       "      <td>0</td>\n",
       "      <td>0</td>\n",
       "      <td>0</td>\n",
       "      <td>0</td>\n",
       "      <td>0</td>\n",
       "      <td>0</td>\n",
       "      <td>0</td>\n",
       "      <td>0</td>\n",
       "      <td>0</td>\n",
       "      <td>0</td>\n",
       "      <td>0</td>\n",
       "      <td>0</td>\n",
       "      <td>0</td>\n",
       "      <td>0</td>\n",
       "      <td>0</td>\n",
       "      <td>0</td>\n",
       "      <td>0</td>\n",
       "      <td>0</td>\n",
       "      <td>0</td>\n",
       "      <td>0</td>\n",
       "      <td>0</td>\n",
       "      <td>1</td>\n",
       "      <td>0</td>\n",
       "      <td>0</td>\n",
       "      <td>0</td>\n",
       "      <td>0</td>\n",
       "      <td>0</td>\n",
       "      <td>0</td>\n",
       "    </tr>\n",
       "    <tr>\n",
       "      <th>1</th>\n",
       "      <td>0</td>\n",
       "      <td>0</td>\n",
       "      <td>1</td>\n",
       "      <td>1</td>\n",
       "      <td>0</td>\n",
       "      <td>0</td>\n",
       "      <td>0</td>\n",
       "      <td>0</td>\n",
       "      <td>0</td>\n",
       "      <td>0</td>\n",
       "      <td>0</td>\n",
       "      <td>0</td>\n",
       "      <td>0</td>\n",
       "      <td>0</td>\n",
       "      <td>0</td>\n",
       "      <td>0</td>\n",
       "      <td>0</td>\n",
       "      <td>0</td>\n",
       "      <td>0</td>\n",
       "      <td>0</td>\n",
       "      <td>0</td>\n",
       "      <td>0</td>\n",
       "      <td>0</td>\n",
       "      <td>0</td>\n",
       "      <td>0</td>\n",
       "      <td>0</td>\n",
       "      <td>0</td>\n",
       "      <td>0</td>\n",
       "      <td>0</td>\n",
       "      <td>0</td>\n",
       "      <td>0</td>\n",
       "      <td>0</td>\n",
       "      <td>0</td>\n",
       "      <td>0</td>\n",
       "      <td>0</td>\n",
       "      <td>0</td>\n",
       "      <td>0</td>\n",
       "      <td>0</td>\n",
       "      <td>0</td>\n",
       "      <td>0</td>\n",
       "      <td>0</td>\n",
       "      <td>0</td>\n",
       "      <td>0</td>\n",
       "      <td>0</td>\n",
       "      <td>0</td>\n",
       "      <td>1</td>\n",
       "      <td>0</td>\n",
       "      <td>0</td>\n",
       "      <td>0</td>\n",
       "      <td>0</td>\n",
       "      <td>0</td>\n",
       "      <td>0</td>\n",
       "    </tr>\n",
       "    <tr>\n",
       "      <th>2</th>\n",
       "      <td>0</td>\n",
       "      <td>1</td>\n",
       "      <td>0</td>\n",
       "      <td>1</td>\n",
       "      <td>0</td>\n",
       "      <td>0</td>\n",
       "      <td>0</td>\n",
       "      <td>0</td>\n",
       "      <td>0</td>\n",
       "      <td>0</td>\n",
       "      <td>0</td>\n",
       "      <td>0</td>\n",
       "      <td>0</td>\n",
       "      <td>0</td>\n",
       "      <td>0</td>\n",
       "      <td>0</td>\n",
       "      <td>0</td>\n",
       "      <td>0</td>\n",
       "      <td>0</td>\n",
       "      <td>0</td>\n",
       "      <td>0</td>\n",
       "      <td>0</td>\n",
       "      <td>0</td>\n",
       "      <td>0</td>\n",
       "      <td>0</td>\n",
       "      <td>0</td>\n",
       "      <td>0</td>\n",
       "      <td>0</td>\n",
       "      <td>0</td>\n",
       "      <td>0</td>\n",
       "      <td>0</td>\n",
       "      <td>0</td>\n",
       "      <td>0</td>\n",
       "      <td>0</td>\n",
       "      <td>0</td>\n",
       "      <td>0</td>\n",
       "      <td>0</td>\n",
       "      <td>0</td>\n",
       "      <td>0</td>\n",
       "      <td>0</td>\n",
       "      <td>0</td>\n",
       "      <td>0</td>\n",
       "      <td>0</td>\n",
       "      <td>0</td>\n",
       "      <td>0</td>\n",
       "      <td>1</td>\n",
       "      <td>0</td>\n",
       "      <td>0</td>\n",
       "      <td>0</td>\n",
       "      <td>0</td>\n",
       "      <td>0</td>\n",
       "      <td>0</td>\n",
       "    </tr>\n",
       "    <tr>\n",
       "      <th>3</th>\n",
       "      <td>0</td>\n",
       "      <td>1</td>\n",
       "      <td>1</td>\n",
       "      <td>0</td>\n",
       "      <td>0</td>\n",
       "      <td>0</td>\n",
       "      <td>0</td>\n",
       "      <td>0</td>\n",
       "      <td>0</td>\n",
       "      <td>0</td>\n",
       "      <td>0</td>\n",
       "      <td>0</td>\n",
       "      <td>0</td>\n",
       "      <td>0</td>\n",
       "      <td>0</td>\n",
       "      <td>0</td>\n",
       "      <td>0</td>\n",
       "      <td>0</td>\n",
       "      <td>0</td>\n",
       "      <td>0</td>\n",
       "      <td>0</td>\n",
       "      <td>0</td>\n",
       "      <td>0</td>\n",
       "      <td>0</td>\n",
       "      <td>0</td>\n",
       "      <td>0</td>\n",
       "      <td>0</td>\n",
       "      <td>0</td>\n",
       "      <td>0</td>\n",
       "      <td>0</td>\n",
       "      <td>0</td>\n",
       "      <td>0</td>\n",
       "      <td>0</td>\n",
       "      <td>0</td>\n",
       "      <td>0</td>\n",
       "      <td>0</td>\n",
       "      <td>0</td>\n",
       "      <td>0</td>\n",
       "      <td>0</td>\n",
       "      <td>0</td>\n",
       "      <td>0</td>\n",
       "      <td>0</td>\n",
       "      <td>0</td>\n",
       "      <td>0</td>\n",
       "      <td>0</td>\n",
       "      <td>1</td>\n",
       "      <td>0</td>\n",
       "      <td>0</td>\n",
       "      <td>0</td>\n",
       "      <td>0</td>\n",
       "      <td>0</td>\n",
       "      <td>0</td>\n",
       "    </tr>\n",
       "    <tr>\n",
       "      <th>4</th>\n",
       "      <td>0</td>\n",
       "      <td>1</td>\n",
       "      <td>1</td>\n",
       "      <td>1</td>\n",
       "      <td>0</td>\n",
       "      <td>0</td>\n",
       "      <td>0</td>\n",
       "      <td>0</td>\n",
       "      <td>0</td>\n",
       "      <td>0</td>\n",
       "      <td>0</td>\n",
       "      <td>0</td>\n",
       "      <td>0</td>\n",
       "      <td>0</td>\n",
       "      <td>0</td>\n",
       "      <td>0</td>\n",
       "      <td>0</td>\n",
       "      <td>0</td>\n",
       "      <td>0</td>\n",
       "      <td>0</td>\n",
       "      <td>0</td>\n",
       "      <td>0</td>\n",
       "      <td>0</td>\n",
       "      <td>0</td>\n",
       "      <td>0</td>\n",
       "      <td>0</td>\n",
       "      <td>0</td>\n",
       "      <td>0</td>\n",
       "      <td>0</td>\n",
       "      <td>0</td>\n",
       "      <td>0</td>\n",
       "      <td>0</td>\n",
       "      <td>0</td>\n",
       "      <td>0</td>\n",
       "      <td>0</td>\n",
       "      <td>0</td>\n",
       "      <td>0</td>\n",
       "      <td>0</td>\n",
       "      <td>0</td>\n",
       "      <td>0</td>\n",
       "      <td>0</td>\n",
       "      <td>0</td>\n",
       "      <td>0</td>\n",
       "      <td>0</td>\n",
       "      <td>0</td>\n",
       "      <td>0</td>\n",
       "      <td>0</td>\n",
       "      <td>0</td>\n",
       "      <td>0</td>\n",
       "      <td>0</td>\n",
       "      <td>0</td>\n",
       "      <td>0</td>\n",
       "    </tr>\n",
       "    <tr>\n",
       "      <th>...</th>\n",
       "      <td>...</td>\n",
       "      <td>...</td>\n",
       "      <td>...</td>\n",
       "      <td>...</td>\n",
       "      <td>...</td>\n",
       "      <td>...</td>\n",
       "      <td>...</td>\n",
       "      <td>...</td>\n",
       "      <td>...</td>\n",
       "      <td>...</td>\n",
       "      <td>...</td>\n",
       "      <td>...</td>\n",
       "      <td>...</td>\n",
       "      <td>...</td>\n",
       "      <td>...</td>\n",
       "      <td>...</td>\n",
       "      <td>...</td>\n",
       "      <td>...</td>\n",
       "      <td>...</td>\n",
       "      <td>...</td>\n",
       "      <td>...</td>\n",
       "      <td>...</td>\n",
       "      <td>...</td>\n",
       "      <td>...</td>\n",
       "      <td>...</td>\n",
       "      <td>...</td>\n",
       "      <td>...</td>\n",
       "      <td>...</td>\n",
       "      <td>...</td>\n",
       "      <td>...</td>\n",
       "      <td>...</td>\n",
       "      <td>...</td>\n",
       "      <td>...</td>\n",
       "      <td>...</td>\n",
       "      <td>...</td>\n",
       "      <td>...</td>\n",
       "      <td>...</td>\n",
       "      <td>...</td>\n",
       "      <td>...</td>\n",
       "      <td>...</td>\n",
       "      <td>...</td>\n",
       "      <td>...</td>\n",
       "      <td>...</td>\n",
       "      <td>...</td>\n",
       "      <td>...</td>\n",
       "      <td>...</td>\n",
       "      <td>...</td>\n",
       "      <td>...</td>\n",
       "      <td>...</td>\n",
       "      <td>...</td>\n",
       "      <td>...</td>\n",
       "      <td>...</td>\n",
       "    </tr>\n",
       "    <tr>\n",
       "      <th>1075</th>\n",
       "      <td>0</td>\n",
       "      <td>0</td>\n",
       "      <td>0</td>\n",
       "      <td>1</td>\n",
       "      <td>0</td>\n",
       "      <td>1</td>\n",
       "      <td>1</td>\n",
       "      <td>0</td>\n",
       "      <td>0</td>\n",
       "      <td>0</td>\n",
       "      <td>0</td>\n",
       "      <td>0</td>\n",
       "      <td>1</td>\n",
       "      <td>0</td>\n",
       "      <td>0</td>\n",
       "      <td>1</td>\n",
       "      <td>0</td>\n",
       "      <td>0</td>\n",
       "      <td>1</td>\n",
       "      <td>0</td>\n",
       "      <td>0</td>\n",
       "      <td>0</td>\n",
       "      <td>1</td>\n",
       "      <td>1</td>\n",
       "      <td>1</td>\n",
       "      <td>0</td>\n",
       "      <td>0</td>\n",
       "      <td>0</td>\n",
       "      <td>0</td>\n",
       "      <td>0</td>\n",
       "      <td>0</td>\n",
       "      <td>0</td>\n",
       "      <td>0</td>\n",
       "      <td>0</td>\n",
       "      <td>0</td>\n",
       "      <td>0</td>\n",
       "      <td>0</td>\n",
       "      <td>0</td>\n",
       "      <td>0</td>\n",
       "      <td>0</td>\n",
       "      <td>0</td>\n",
       "      <td>1</td>\n",
       "      <td>0</td>\n",
       "      <td>0</td>\n",
       "      <td>1</td>\n",
       "      <td>0</td>\n",
       "      <td>0</td>\n",
       "      <td>0</td>\n",
       "      <td>0</td>\n",
       "      <td>0</td>\n",
       "      <td>0</td>\n",
       "      <td>0</td>\n",
       "    </tr>\n",
       "    <tr>\n",
       "      <th>1076</th>\n",
       "      <td>0</td>\n",
       "      <td>0</td>\n",
       "      <td>0</td>\n",
       "      <td>1</td>\n",
       "      <td>0</td>\n",
       "      <td>1</td>\n",
       "      <td>1</td>\n",
       "      <td>0</td>\n",
       "      <td>0</td>\n",
       "      <td>0</td>\n",
       "      <td>0</td>\n",
       "      <td>0</td>\n",
       "      <td>1</td>\n",
       "      <td>0</td>\n",
       "      <td>0</td>\n",
       "      <td>1</td>\n",
       "      <td>0</td>\n",
       "      <td>0</td>\n",
       "      <td>1</td>\n",
       "      <td>0</td>\n",
       "      <td>0</td>\n",
       "      <td>0</td>\n",
       "      <td>1</td>\n",
       "      <td>1</td>\n",
       "      <td>1</td>\n",
       "      <td>0</td>\n",
       "      <td>0</td>\n",
       "      <td>0</td>\n",
       "      <td>0</td>\n",
       "      <td>0</td>\n",
       "      <td>0</td>\n",
       "      <td>0</td>\n",
       "      <td>0</td>\n",
       "      <td>0</td>\n",
       "      <td>0</td>\n",
       "      <td>0</td>\n",
       "      <td>0</td>\n",
       "      <td>0</td>\n",
       "      <td>0</td>\n",
       "      <td>0</td>\n",
       "      <td>0</td>\n",
       "      <td>1</td>\n",
       "      <td>0</td>\n",
       "      <td>0</td>\n",
       "      <td>1</td>\n",
       "      <td>0</td>\n",
       "      <td>0</td>\n",
       "      <td>0</td>\n",
       "      <td>0</td>\n",
       "      <td>0</td>\n",
       "      <td>0</td>\n",
       "      <td>0</td>\n",
       "    </tr>\n",
       "    <tr>\n",
       "      <th>1077</th>\n",
       "      <td>0</td>\n",
       "      <td>0</td>\n",
       "      <td>0</td>\n",
       "      <td>1</td>\n",
       "      <td>0</td>\n",
       "      <td>1</td>\n",
       "      <td>1</td>\n",
       "      <td>0</td>\n",
       "      <td>0</td>\n",
       "      <td>0</td>\n",
       "      <td>0</td>\n",
       "      <td>0</td>\n",
       "      <td>1</td>\n",
       "      <td>0</td>\n",
       "      <td>0</td>\n",
       "      <td>1</td>\n",
       "      <td>0</td>\n",
       "      <td>0</td>\n",
       "      <td>1</td>\n",
       "      <td>0</td>\n",
       "      <td>0</td>\n",
       "      <td>0</td>\n",
       "      <td>1</td>\n",
       "      <td>1</td>\n",
       "      <td>1</td>\n",
       "      <td>0</td>\n",
       "      <td>0</td>\n",
       "      <td>0</td>\n",
       "      <td>0</td>\n",
       "      <td>0</td>\n",
       "      <td>0</td>\n",
       "      <td>0</td>\n",
       "      <td>0</td>\n",
       "      <td>0</td>\n",
       "      <td>0</td>\n",
       "      <td>0</td>\n",
       "      <td>0</td>\n",
       "      <td>0</td>\n",
       "      <td>0</td>\n",
       "      <td>0</td>\n",
       "      <td>0</td>\n",
       "      <td>1</td>\n",
       "      <td>0</td>\n",
       "      <td>0</td>\n",
       "      <td>1</td>\n",
       "      <td>0</td>\n",
       "      <td>0</td>\n",
       "      <td>0</td>\n",
       "      <td>0</td>\n",
       "      <td>0</td>\n",
       "      <td>0</td>\n",
       "      <td>0</td>\n",
       "    </tr>\n",
       "    <tr>\n",
       "      <th>1078</th>\n",
       "      <td>0</td>\n",
       "      <td>0</td>\n",
       "      <td>0</td>\n",
       "      <td>1</td>\n",
       "      <td>0</td>\n",
       "      <td>1</td>\n",
       "      <td>1</td>\n",
       "      <td>0</td>\n",
       "      <td>0</td>\n",
       "      <td>0</td>\n",
       "      <td>0</td>\n",
       "      <td>0</td>\n",
       "      <td>1</td>\n",
       "      <td>0</td>\n",
       "      <td>0</td>\n",
       "      <td>1</td>\n",
       "      <td>0</td>\n",
       "      <td>0</td>\n",
       "      <td>1</td>\n",
       "      <td>0</td>\n",
       "      <td>0</td>\n",
       "      <td>0</td>\n",
       "      <td>1</td>\n",
       "      <td>1</td>\n",
       "      <td>1</td>\n",
       "      <td>0</td>\n",
       "      <td>0</td>\n",
       "      <td>0</td>\n",
       "      <td>0</td>\n",
       "      <td>0</td>\n",
       "      <td>0</td>\n",
       "      <td>0</td>\n",
       "      <td>0</td>\n",
       "      <td>0</td>\n",
       "      <td>0</td>\n",
       "      <td>0</td>\n",
       "      <td>0</td>\n",
       "      <td>0</td>\n",
       "      <td>0</td>\n",
       "      <td>0</td>\n",
       "      <td>0</td>\n",
       "      <td>1</td>\n",
       "      <td>0</td>\n",
       "      <td>0</td>\n",
       "      <td>1</td>\n",
       "      <td>0</td>\n",
       "      <td>0</td>\n",
       "      <td>0</td>\n",
       "      <td>0</td>\n",
       "      <td>0</td>\n",
       "      <td>0</td>\n",
       "      <td>0</td>\n",
       "    </tr>\n",
       "    <tr>\n",
       "      <th>1079</th>\n",
       "      <td>0</td>\n",
       "      <td>0</td>\n",
       "      <td>0</td>\n",
       "      <td>1</td>\n",
       "      <td>0</td>\n",
       "      <td>1</td>\n",
       "      <td>1</td>\n",
       "      <td>0</td>\n",
       "      <td>0</td>\n",
       "      <td>0</td>\n",
       "      <td>0</td>\n",
       "      <td>0</td>\n",
       "      <td>1</td>\n",
       "      <td>0</td>\n",
       "      <td>0</td>\n",
       "      <td>1</td>\n",
       "      <td>0</td>\n",
       "      <td>0</td>\n",
       "      <td>1</td>\n",
       "      <td>0</td>\n",
       "      <td>0</td>\n",
       "      <td>0</td>\n",
       "      <td>1</td>\n",
       "      <td>1</td>\n",
       "      <td>1</td>\n",
       "      <td>0</td>\n",
       "      <td>0</td>\n",
       "      <td>0</td>\n",
       "      <td>0</td>\n",
       "      <td>0</td>\n",
       "      <td>0</td>\n",
       "      <td>0</td>\n",
       "      <td>0</td>\n",
       "      <td>0</td>\n",
       "      <td>0</td>\n",
       "      <td>0</td>\n",
       "      <td>0</td>\n",
       "      <td>0</td>\n",
       "      <td>0</td>\n",
       "      <td>0</td>\n",
       "      <td>0</td>\n",
       "      <td>1</td>\n",
       "      <td>0</td>\n",
       "      <td>0</td>\n",
       "      <td>1</td>\n",
       "      <td>0</td>\n",
       "      <td>0</td>\n",
       "      <td>0</td>\n",
       "      <td>0</td>\n",
       "      <td>0</td>\n",
       "      <td>0</td>\n",
       "      <td>0</td>\n",
       "    </tr>\n",
       "  </tbody>\n",
       "</table>\n",
       "<p>1080 rows × 52 columns</p>\n",
       "</div>"
      ],
      "text/plain": [
       "      skin_rash  continuous_sneezing  ...  stomach_bleeding  blood_in_sputum\n",
       "0             0                    1  ...                 0                0\n",
       "1             0                    0  ...                 0                0\n",
       "2             0                    1  ...                 0                0\n",
       "3             0                    1  ...                 0                0\n",
       "4             0                    1  ...                 0                0\n",
       "...         ...                  ...  ...               ...              ...\n",
       "1075          0                    0  ...                 0                0\n",
       "1076          0                    0  ...                 0                0\n",
       "1077          0                    0  ...                 0                0\n",
       "1078          0                    0  ...                 0                0\n",
       "1079          0                    0  ...                 0                0\n",
       "\n",
       "[1080 rows x 52 columns]"
      ]
     },
     "execution_count": 87,
     "metadata": {},
     "output_type": "execute_result"
    }
   ],
   "source": [
    "#Shape of x and  x_filter\n",
    "x_filter"
   ]
  },
  {
   "cell_type": "code",
   "execution_count": null,
   "metadata": {
    "id": "lCHLwfQVw16U"
   },
   "outputs": [],
   "source": [
    "\"\"'Now we can see that the number of columns reduce to 52 from 127\"\"'\n",
    "\"\"'We will take all the cases as of taking the x as data and x_filter as data and on basis of accuracy final x will be decided \"\"';"
   ]
  },
  {
   "cell_type": "code",
   "execution_count": null,
   "metadata": {
    "id": "11hFcRL1w16U"
   },
   "outputs": [],
   "source": [
    "#Import train_test_split\n",
    "from sklearn.model_selection import train_test_split"
   ]
  },
  {
   "cell_type": "code",
   "execution_count": null,
   "metadata": {
    "id": "qMz1yvGPw16U"
   },
   "outputs": [],
   "source": [
    "#Taking the whole data \n",
    "x_train,x_test,y_train,y_test=train_test_split(x,y,random_state=0,test_size=0.3)"
   ]
  },
  {
   "cell_type": "code",
   "execution_count": null,
   "metadata": {
    "colab": {
     "base_uri": "https://localhost:8080/"
    },
    "id": "SrzWDTSvw16V",
    "outputId": "6c0d21de-8fc7-46ba-b0d5-76d5065875a7"
   },
   "outputs": [
    {
     "data": {
      "text/plain": [
       "((756, 127), (756,))"
      ]
     },
     "execution_count": 66,
     "metadata": {},
     "output_type": "execute_result"
    }
   ],
   "source": [
    "x_train.shape,y_train.shape"
   ]
  },
  {
   "cell_type": "code",
   "execution_count": null,
   "metadata": {
    "id": "ARayGwqiw16V"
   },
   "outputs": [],
   "source": [
    "#Taking x_filter\n",
    "x_train_filter,x_test_filter,y_train_filter,y_test_filter=train_test_split(x_filter,y,random_state=0,test_size=0.3)"
   ]
  },
  {
   "cell_type": "code",
   "execution_count": null,
   "metadata": {
    "colab": {
     "base_uri": "https://localhost:8080/"
    },
    "id": "66vDlFmqw16W",
    "outputId": "faff4476-d335-4223-dc29-ad5e6250131c"
   },
   "outputs": [
    {
     "data": {
      "text/plain": [
       "((756, 52), (756,))"
      ]
     },
     "execution_count": 21,
     "metadata": {},
     "output_type": "execute_result"
    }
   ],
   "source": [
    "x_train_filter.shape,y_train_filter.shape"
   ]
  },
  {
   "cell_type": "markdown",
   "metadata": {
    "id": "SWVcAPrLw16W"
   },
   "source": [
    "# 2. Feature Selection "
   ]
  },
  {
   "cell_type": "code",
   "execution_count": null,
   "metadata": {
    "colab": {
     "base_uri": "https://localhost:8080/"
    },
    "id": "zUGKGZjjw16W",
    "outputId": "f9c68422-0d46-4b52-8af0-da1f9abcdfcd"
   },
   "outputs": [
    {
     "data": {
      "text/plain": [
       "StandardScaler()"
      ]
     },
     "execution_count": 68,
     "metadata": {},
     "output_type": "execute_result"
    }
   ],
   "source": [
    "#Scaling the the whole data, as linear models benefits from feature scaling\n",
    "from sklearn.preprocessing import StandardScaler\n",
    "scaler = StandardScaler()\n",
    "scaler.fit(x_train.fillna(0))"
   ]
  },
  {
   "cell_type": "code",
   "execution_count": null,
   "metadata": {
    "colab": {
     "base_uri": "https://localhost:8080/"
    },
    "id": "8oFKMQZrw16X",
    "outputId": "9e3953e0-e13f-4b53-c4a5-99db491011c0"
   },
   "outputs": [
    {
     "data": {
      "text/plain": [
       "StandardScaler()"
      ]
     },
     "execution_count": 69,
     "metadata": {},
     "output_type": "execute_result"
    }
   ],
   "source": [
    "#Scaling the the filter data\n",
    "scaler_filter = StandardScaler()\n",
    "scaler_filter.fit(x_train_filter.fillna(0))"
   ]
  },
  {
   "cell_type": "code",
   "execution_count": null,
   "metadata": {
    "id": "E8rDcpTTw16X"
   },
   "outputs": [],
   "source": [
    "''' In all feature selection procedures, it is a good practice to select the features by examining only the training set.\n",
    "This is to avoid overfitting.''';"
   ]
  },
  {
   "cell_type": "code",
   "execution_count": null,
   "metadata": {
    "id": "ZVCbyGPuw16X"
   },
   "outputs": [],
   "source": [
    "#Import select_from_model\n",
    "from sklearn.feature_selection import SelectFromModel"
   ]
  },
  {
   "cell_type": "code",
   "execution_count": null,
   "metadata": {
    "id": "O1EiylHOw16Y"
   },
   "outputs": [],
   "source": [
    "#Selecting features using Lasso regularisation using SelectFromModel\n",
    "from sklearn.linear_model import Lasso"
   ]
  },
  {
   "cell_type": "markdown",
   "metadata": {
    "id": "-VcKzDOZw16Y"
   },
   "source": [
    "# 2.1 Using Logistic Regression with Lasso"
   ]
  },
  {
   "cell_type": "code",
   "execution_count": null,
   "metadata": {
    "id": "oCN3XZrow16Y"
   },
   "outputs": [],
   "source": [
    "'''Here I will do the model fitting and feature selection, altogether in one line of code.\n",
    "First I specify the Logistic Regression model, and I make sure I select the Lasso (L1) penalty.\n",
    "Then I use the selectFromModel object from sklearn, which will select in theory the features which coefficients are non-zero.''';"
   ]
  },
  {
   "cell_type": "code",
   "execution_count": null,
   "metadata": {
    "id": "i9XEQE72w16Z"
   },
   "outputs": [],
   "source": [
    "#Importing the Logistic Regression\n",
    "import sklearn.linear_model as lm"
   ]
  },
  {
   "cell_type": "code",
   "execution_count": null,
   "metadata": {
    "colab": {
     "base_uri": "https://localhost:8080/"
    },
    "id": "NmyKcJWZw16Z",
    "outputId": "82dda21b-cf9b-43d6-8541-b048958c4a1d"
   },
   "outputs": [
    {
     "data": {
      "text/plain": [
       "SelectFromModel(estimator=LogisticRegression(C=1, penalty='l1',\n",
       "                                             solver='liblinear'))"
      ]
     },
     "execution_count": 73,
     "metadata": {},
     "output_type": "execute_result"
    }
   ],
   "source": [
    "#For whole data\n",
    "#  SelectFromModel(estimator=LogisticRegression())\n",
    "#sel_ =lm.LogisticRegression(C=1, penalty='l1', solver='liblinear')\n",
    "sel_ =SelectFromModel(estimator=lm.LogisticRegression(C=1, penalty='l1', solver='liblinear'))\n",
    "sel_.fit(scaler.transform(x_train.fillna(0)), y_train)"
   ]
  },
  {
   "cell_type": "code",
   "execution_count": null,
   "metadata": {
    "colab": {
     "base_uri": "https://localhost:8080/"
    },
    "id": "OOdmuxMXw16Z",
    "outputId": "6793aa12-b1df-450d-98a7-dd2830f128d1"
   },
   "outputs": [
    {
     "data": {
      "text/plain": [
       "SelectFromModel(estimator=LogisticRegression(C=1, penalty='l1',\n",
       "                                             solver='liblinear'))"
      ]
     },
     "execution_count": 74,
     "metadata": {},
     "output_type": "execute_result"
    }
   ],
   "source": [
    "#For filter data\n",
    "sel_filter = SelectFromModel(estimator=lm.LogisticRegression(C=1, penalty='l1', solver='liblinear'))\n",
    "sel_filter.fit(scaler_filter.transform(x_train_filter.fillna(0)), y_train)"
   ]
  },
  {
   "cell_type": "code",
   "execution_count": null,
   "metadata": {
    "colab": {
     "base_uri": "https://localhost:8080/"
    },
    "id": "7dGrg6Dsw16a",
    "outputId": "77015e95-9e21-4f6f-dc30-cdb63a3b755b"
   },
   "outputs": [
    {
     "data": {
      "text/plain": [
       "array([False,  True, False,  True,  True, False, False, False, False,\n",
       "       False, False,  True, False, False, False, False, False, False,\n",
       "       False, False,  True, False,  True, False, False,  True, False,\n",
       "       False, False,  True,  True,  True, False,  True,  True,  True,\n",
       "       False,  True,  True, False, False, False, False, False, False,\n",
       "        True, False, False,  True,  True,  True,  True,  True, False,\n",
       "       False, False, False, False, False, False, False, False, False,\n",
       "       False,  True, False, False, False, False, False, False, False,\n",
       "       False, False, False, False, False, False, False, False, False,\n",
       "       False, False, False, False,  True, False, False, False, False,\n",
       "       False,  True, False, False,  True, False,  True,  True, False,\n",
       "       False,  True,  True,  True,  True, False, False, False, False,\n",
       "       False, False,  True,  True, False, False, False,  True, False,\n",
       "       False, False, False, False, False, False, False, False, False,\n",
       "       False])"
      ]
     },
     "execution_count": 83,
     "metadata": {},
     "output_type": "execute_result"
    }
   ],
   "source": [
    "#Visualising features of whole data that were kept by the lasso regularisation\n",
    "sel_.get_support()"
   ]
  },
  {
   "cell_type": "code",
   "execution_count": null,
   "metadata": {
    "id": "T8ZBDrgqw16a"
   },
   "outputs": [],
   "source": [
    "#Visualising features of filter data that were kept by the lasso regularisation\n",
    "sel_filter."
   ]
  },
  {
   "cell_type": "code",
   "execution_count": null,
   "metadata": {
    "id": "Hyz5FEIKw16b"
   },
   "outputs": [],
   "source": [
    "'''In the above output, the output labels are index wise. \n",
    "So True is for the features that lasso thought is important (non-zero features)\n",
    "while False is for the features whose weights were shrinked to zero and are not important according to Lasso.''';"
   ]
  },
  {
   "cell_type": "code",
   "execution_count": null,
   "metadata": {
    "colab": {
     "base_uri": "https://localhost:8080/"
    },
    "id": "hRQPQjLEw16b",
    "outputId": "11d94280-6fc3-4480-ceb9-367b16525168"
   },
   "outputs": [
    {
     "name": "stdout",
     "output_type": "stream",
     "text": [
      "total features: 127\n",
      "selected features: 31\n",
      "features with coefficients shrank to zero: 1107\n"
     ]
    }
   ],
   "source": [
    "# Make a list of with the selected features from whole data.\n",
    "selected_feat = x_train.columns[(sel_.get_support())]\n",
    "print('total features: {}'.format((x_train.shape[1])))\n",
    "print('selected features: {}'.format(len(selected_feat)))\n",
    "print('features with coefficients shrank to zero: {}'.format(\n",
    "      np.sum(sel_.estimator_.coef_ == 0)))"
   ]
  },
  {
   "cell_type": "code",
   "execution_count": null,
   "metadata": {
    "colab": {
     "base_uri": "https://localhost:8080/"
    },
    "id": "6C46Z_xqNyQN",
    "outputId": "8708df8e-d32e-425d-ff71-9933388b4d7b"
   },
   "outputs": [
    {
     "data": {
      "text/plain": [
       "Index(['skin_rash', 'continuous_sneezing', 'shivering', 'fatigue',\n",
       "       'irregular_sugar_level', 'high_fever', 'sweating', 'yellowish_skin',\n",
       "       'dark_urine', 'nausea', 'pain_behind_the_eyes', 'back_pain',\n",
       "       'constipation', 'diarrhoea', 'mild_fever', 'malaise',\n",
       "       'throat_irritation', 'redness_of_eyes', 'sinus_pressure', 'runny_nose',\n",
       "       'congestion', 'loss_of_smell', 'toxic_look_(typhos)', 'muscle_pain',\n",
       "       'red_spots_over_body', 'belly_pain', 'watering_from_eyes',\n",
       "       'increased_appetite', 'polyuria', 'family_history', 'coma',\n",
       "       'stomach_bleeding', 'blood_in_sputum'],\n",
       "      dtype='object')"
      ]
     },
     "execution_count": 79,
     "metadata": {},
     "output_type": "execute_result"
    }
   ],
   "source": [
    "selected_feat_filter"
   ]
  },
  {
   "cell_type": "code",
   "execution_count": null,
   "metadata": {
    "colab": {
     "base_uri": "https://localhost:8080/"
    },
    "id": "SFCrGbrhw16b",
    "outputId": "a811541d-a32e-4bb7-b7f5-1c6a728da2cc"
   },
   "outputs": [
    {
     "data": {
      "text/plain": [
       "1107"
      ]
     },
     "execution_count": 32,
     "metadata": {},
     "output_type": "execute_result"
    }
   ],
   "source": [
    "#Number of features which coefficient was shrank to zero in whole data\n",
    "np.sum(sel_.estimator_.coef_ == 0)"
   ]
  },
  {
   "cell_type": "code",
   "execution_count": null,
   "metadata": {
    "colab": {
     "base_uri": "https://localhost:8080/"
    },
    "id": "h4_OZ5UMw16c",
    "outputId": "b600fd46-f41c-48d9-84c1-7f055f6417d0"
   },
   "outputs": [
    {
     "name": "stdout",
     "output_type": "stream",
     "text": [
      "total features: 52\n",
      "selected features: 33\n",
      "features with coefficients shrank to zero: 431\n"
     ]
    }
   ],
   "source": [
    "# Make a list of with the selected features for filter data.\n",
    "selected_feat_filter = x_train_filter.columns[(sel_filter.get_support())]\n",
    "print('total features: {}'.format((x_train_filter.shape[1])))\n",
    "print('selected features: {}'.format(len(selected_feat_filter)))\n",
    "print('features with coefficients shrank to zero: {}'.format(\n",
    "      np.sum(sel_filter.estimator_.coef_ == 0)))"
   ]
  },
  {
   "cell_type": "code",
   "execution_count": null,
   "metadata": {
    "colab": {
     "base_uri": "https://localhost:8080/"
    },
    "id": "i62m2QNjw16c",
    "outputId": "0b71b317-c4fd-4a00-9e62-fff31f7c3731"
   },
   "outputs": [
    {
     "data": {
      "text/plain": [
       "431"
      ]
     },
     "execution_count": 34,
     "metadata": {},
     "output_type": "execute_result"
    }
   ],
   "source": [
    "#Number of features which coefficient was shrank to zero in filter data\n",
    "np.sum(sel_filter.estimator_.coef_ == 0)"
   ]
  },
  {
   "cell_type": "code",
   "execution_count": null,
   "metadata": {
    "id": "EGvbkoCEw16c"
   },
   "outputs": [],
   "source": [
    "\"\"\"It can be seen from above that number of selected features \n",
    "in both whole data and filter data are somehow close to each other.\"\"\";"
   ]
  },
  {
   "cell_type": "code",
   "execution_count": null,
   "metadata": {
    "colab": {
     "base_uri": "https://localhost:8080/"
    },
    "id": "EWcouy6sw16d",
    "outputId": "52e05a53-5e07-4b49-d5f2-ce67a21cbe0a"
   },
   "outputs": [
    {
     "data": {
      "text/plain": [
       "((756, 31), (324, 31))"
      ]
     },
     "execution_count": 35,
     "metadata": {},
     "output_type": "execute_result"
    }
   ],
   "source": [
    "#Removing the features from training and test set for whole data\n",
    "x_train_selected = sel_.transform(x_train.fillna(0))\n",
    "x_test_selected = sel_.transform(x_test.fillna(0))\n",
    "x_train_selected.shape, x_test_selected.shape"
   ]
  },
  {
   "cell_type": "code",
   "execution_count": null,
   "metadata": {
    "colab": {
     "base_uri": "https://localhost:8080/"
    },
    "id": "abzp8QOEOzDW",
    "outputId": "d4860bd4-ee4b-4a74-e9e8-700f4d8cfc39"
   },
   "outputs": [
    {
     "data": {
      "text/plain": [
       "array([[1, 0, 0, ..., 0, 0, 0],\n",
       "       [0, 1, 0, ..., 0, 0, 0],\n",
       "       [0, 0, 0, ..., 1, 1, 0],\n",
       "       ...,\n",
       "       [0, 0, 0, ..., 0, 0, 0],\n",
       "       [0, 0, 0, ..., 0, 0, 0],\n",
       "       [0, 0, 0, ..., 1, 1, 0]])"
      ]
     },
     "execution_count": 80,
     "metadata": {},
     "output_type": "execute_result"
    }
   ],
   "source": [
    "x_train_selected"
   ]
  },
  {
   "cell_type": "code",
   "execution_count": null,
   "metadata": {
    "colab": {
     "base_uri": "https://localhost:8080/"
    },
    "id": "-xlZZ0Nyw16d",
    "outputId": "562adbce-252c-4204-ee40-d84f0f3517fb"
   },
   "outputs": [
    {
     "data": {
      "text/plain": [
       "array([[1, 0, 0, ..., 0, 0, 0],\n",
       "       [0, 1, 0, ..., 0, 0, 0],\n",
       "       [0, 0, 0, ..., 1, 1, 0],\n",
       "       ...,\n",
       "       [0, 0, 0, ..., 0, 0, 0],\n",
       "       [0, 0, 0, ..., 0, 0, 0],\n",
       "       [0, 0, 0, ..., 1, 1, 0]])"
      ]
     },
     "execution_count": 36,
     "metadata": {},
     "output_type": "execute_result"
    }
   ],
   "source": [
    "#Value in x_train_selected\n",
    "x_train_selected"
   ]
  },
  {
   "cell_type": "code",
   "execution_count": null,
   "metadata": {
    "colab": {
     "base_uri": "https://localhost:8080/"
    },
    "id": "mfY2-FFkw16d",
    "outputId": "07d1abf8-e060-4b62-9ceb-39631fca5f35"
   },
   "outputs": [
    {
     "data": {
      "text/plain": [
       "((756, 32), (324, 32))"
      ]
     },
     "execution_count": 37,
     "metadata": {},
     "output_type": "execute_result"
    }
   ],
   "source": [
    "#Removing the features from training and test set for filter data\n",
    "x_train_selected_filter = sel_filter.transform(x_train_filter.fillna(0))\n",
    "x_test_selected_filter = sel_filter.transform(x_test_filter.fillna(0))\n",
    "x_train_selected_filter.shape, x_test_selected_filter.shape"
   ]
  },
  {
   "cell_type": "code",
   "execution_count": null,
   "metadata": {
    "colab": {
     "base_uri": "https://localhost:8080/"
    },
    "id": "76kixon3w16d",
    "outputId": "be6d5c18-7edd-44bc-d5a3-0e6eb0dd81aa"
   },
   "outputs": [
    {
     "data": {
      "text/plain": [
       "array([[1, 0, 0, ..., 0, 0, 0],\n",
       "       [0, 1, 0, ..., 0, 0, 0],\n",
       "       [0, 0, 0, ..., 1, 1, 0],\n",
       "       ...,\n",
       "       [0, 0, 0, ..., 0, 0, 0],\n",
       "       [0, 0, 0, ..., 0, 0, 0],\n",
       "       [0, 0, 0, ..., 1, 1, 0]])"
      ]
     },
     "execution_count": 38,
     "metadata": {},
     "output_type": "execute_result"
    }
   ],
   "source": [
    "#value in x_train_selected_filter\n",
    "x_train_selected_filter"
   ]
  },
  {
   "cell_type": "markdown",
   "metadata": {
    "id": "w9bG_Dakw16e"
   },
   "source": [
    "# 2.2 Using Random Forest"
   ]
  },
  {
   "cell_type": "code",
   "execution_count": null,
   "metadata": {
    "id": "VnX_nFD9w16e"
   },
   "outputs": [],
   "source": [
    "#Importing the Random Forest Classifier\n",
    "from sklearn.ensemble import RandomForestClassifier"
   ]
  },
  {
   "cell_type": "code",
   "execution_count": null,
   "metadata": {
    "id": "jK-xLLUTw16e"
   },
   "outputs": [],
   "source": [
    "'''Here I will do the model fitting and feature selection altogether in one line of code.\n",
    "Firstly, I specify the random forest instance, indicating the number of trees.\n",
    "Then I use selectFromModel object from sklearn to automatically select the features''';"
   ]
  },
  {
   "cell_type": "code",
   "execution_count": null,
   "metadata": {
    "colab": {
     "base_uri": "https://localhost:8080/"
    },
    "id": "og73Ll1-w16e",
    "outputId": "24e0c439-b79c-42e0-afd9-4cc6c4290f0b"
   },
   "outputs": [
    {
     "data": {
      "text/plain": [
       "SelectFromModel(estimator=RandomForestClassifier())"
      ]
     },
     "execution_count": 40,
     "metadata": {},
     "output_type": "execute_result"
    }
   ],
   "source": [
    "#For whole data\n",
    "sel_1 = SelectFromModel(RandomForestClassifier(n_estimators = 100))\n",
    "sel_1.fit(x_train, y_train)"
   ]
  },
  {
   "cell_type": "code",
   "execution_count": null,
   "metadata": {
    "colab": {
     "base_uri": "https://localhost:8080/"
    },
    "id": "UD1mXNGBw16f",
    "outputId": "217fe220-cbfb-4022-cc7a-cd7359141abb"
   },
   "outputs": [
    {
     "data": {
      "text/plain": [
       "SelectFromModel(estimator=RandomForestClassifier())"
      ]
     },
     "execution_count": 41,
     "metadata": {},
     "output_type": "execute_result"
    }
   ],
   "source": [
    "#For filter data\n",
    "sel_1_filter = SelectFromModel(RandomForestClassifier(n_estimators = 100))\n",
    "sel_1_filter.fit(x_train_filter, y_train)"
   ]
  },
  {
   "cell_type": "code",
   "execution_count": null,
   "metadata": {
    "colab": {
     "base_uri": "https://localhost:8080/"
    },
    "id": "r91B_7wJw16f",
    "outputId": "85eaaa94-37f3-4caa-9c5d-551856a8255f"
   },
   "outputs": [
    {
     "data": {
      "text/plain": [
       "((756, 46), (324, 46))"
      ]
     },
     "execution_count": 42,
     "metadata": {},
     "output_type": "execute_result"
    }
   ],
   "source": [
    "#Removing the feature from whole data\n",
    "x_train_selected_1 = sel_1.transform(x_train.fillna(0))\n",
    "x_test_selected_1 = sel_1.transform(x_test.fillna(0))\n",
    "x_train_selected_1.shape, x_test_selected_1.shape"
   ]
  },
  {
   "cell_type": "code",
   "execution_count": null,
   "metadata": {
    "colab": {
     "base_uri": "https://localhost:8080/"
    },
    "id": "ycVMMsrKw16f",
    "outputId": "98a7dc85-bb40-4c47-d21c-54487b7dcb7b"
   },
   "outputs": [
    {
     "data": {
      "text/plain": [
       "((756, 24), (324, 24))"
      ]
     },
     "execution_count": 43,
     "metadata": {},
     "output_type": "execute_result"
    }
   ],
   "source": [
    "#Removing the feature from filter data\n",
    "x_train_selected_1_filter = sel_1_filter.transform(x_train_filter.fillna(0))\n",
    "x_test_selected_1_filter = sel_1_filter.transform(x_test_filter.fillna(0))\n",
    "x_train_selected_1_filter.shape, x_test_selected_1_filter.shape"
   ]
  },
  {
   "cell_type": "markdown",
   "metadata": {
    "id": "XZV8Pci2w16h"
   },
   "source": [
    "# 3. Training and Testing over Different Algorithms"
   ]
  },
  {
   "cell_type": "markdown",
   "metadata": {
    "id": "IdTVn1QSw16i"
   },
   "source": [
    "# 3.1 Random Forest Classifier"
   ]
  },
  {
   "cell_type": "code",
   "execution_count": null,
   "metadata": {
    "id": "o9u6_ueCw16i"
   },
   "outputs": [],
   "source": [
    "from sklearn.ensemble import RandomForestClassifier"
   ]
  },
  {
   "cell_type": "code",
   "execution_count": null,
   "metadata": {
    "id": "1Rr4xVMSw16i"
   },
   "outputs": [],
   "source": [
    "#Classifier for whole data tranfrom from Lasso Feature selection\n",
    "clf_random_lasso = RandomForestClassifier(max_depth=2,random_state=0)"
   ]
  },
  {
   "cell_type": "code",
   "execution_count": null,
   "metadata": {
    "colab": {
     "base_uri": "https://localhost:8080/"
    },
    "id": "Cd57o-FLw16i",
    "outputId": "0b7a7254-1924-4282-acea-f3ada914d0de"
   },
   "outputs": [
    {
     "data": {
      "text/plain": [
       "RandomForestClassifier(max_depth=2, random_state=0)"
      ]
     },
     "execution_count": 46,
     "metadata": {},
     "output_type": "execute_result"
    }
   ],
   "source": [
    "#Training the model\n",
    "clf_random_lasso.fit(x_train_selected, y_train)"
   ]
  },
  {
   "cell_type": "code",
   "execution_count": null,
   "metadata": {
    "id": "1HhVOGNtLgUN"
   },
   "outputs": [],
   "source": []
  },
  {
   "cell_type": "code",
   "execution_count": null,
   "metadata": {
    "id": "Pda8S9MSw16j"
   },
   "outputs": [],
   "source": [
    "#Taking prediction from the model\n",
    "y_predict_random_lasso=clf_random_lasso.predict(x_test_selected)"
   ]
  },
  {
   "cell_type": "code",
   "execution_count": null,
   "metadata": {
    "id": "sifQZJv3w16j",
    "outputId": "e3f28f09-20e2-41a3-bccc-a69afdae7031"
   },
   "outputs": [
    {
     "name": "stdout",
     "output_type": "stream",
     "text": [
      "              precision    recall  f1-score   support\n",
      "\n",
      "     Allergy       1.00      1.00      1.00        32\n",
      " Common Cold       1.00      1.00      1.00        26\n",
      "      Dengue       1.00      1.00      1.00        39\n",
      "   Diabetes        1.00      1.00      1.00        38\n",
      " Hepatitis C       1.00      1.00      1.00        37\n",
      " Hepatitis E       1.00      1.00      1.00        42\n",
      "     Malaria       1.00      1.00      1.00        34\n",
      "Tuberculosis       1.00      1.00      1.00        36\n",
      "     Typhoid       1.00      1.00      1.00        40\n",
      "\n",
      "    accuracy                           1.00       324\n",
      "   macro avg       1.00      1.00      1.00       324\n",
      "weighted avg       1.00      1.00      1.00       324\n",
      "\n"
     ]
    }
   ],
   "source": [
    "print(classification_report(y_test, y_predict_random_lasso))"
   ]
  },
  {
   "cell_type": "code",
   "execution_count": null,
   "metadata": {
    "id": "ubPoCxx_w16j",
    "outputId": "ac21376e-23b4-418b-fad5-272bb97b1a33"
   },
   "outputs": [
    {
     "data": {
      "text/plain": [
       "1.0"
      ]
     },
     "execution_count": 400,
     "metadata": {},
     "output_type": "execute_result"
    }
   ],
   "source": [
    "'''What I can do, is decide that I'm not interested in the scores of labels that were not predicted, \n",
    "and then explicitly specify the labels which are in our interest (which are labels that were predicted at least once):'''\n",
    "\n",
    "metrics.f1_score(y_test, y_predict_random_lasso, average='weighted', labels=np.unique(y_predict_random_lasso))"
   ]
  },
  {
   "cell_type": "code",
   "execution_count": null,
   "metadata": {
    "id": "9TKLaSsvw16j",
    "outputId": "91b15543-29f9-4eee-b665-ce1b214f8a7e"
   },
   "outputs": [
    {
     "data": {
      "text/plain": [
       "'Doing the same thing for filter data in Lasso Regularization'"
      ]
     },
     "execution_count": 401,
     "metadata": {},
     "output_type": "execute_result"
    }
   ],
   "source": [
    "'''Doing the same thing for filter data in Lasso Regularization'''"
   ]
  },
  {
   "cell_type": "code",
   "execution_count": null,
   "metadata": {
    "id": "BZCC30MJw16k"
   },
   "outputs": [],
   "source": [
    "#Classification for Random forest from Lasso Regularisation \n",
    "clf_random_lasso_filter = RandomForestClassifier(max_depth=2,random_state=0)"
   ]
  },
  {
   "cell_type": "code",
   "execution_count": null,
   "metadata": {
    "colab": {
     "base_uri": "https://localhost:8080/"
    },
    "id": "EJ2Xx40Kw16k",
    "outputId": "e4124239-7a6e-4924-a88b-7502538d8e83"
   },
   "outputs": [
    {
     "data": {
      "text/plain": [
       "RandomForestClassifier(max_depth=2, random_state=0)"
      ]
     },
     "execution_count": 50,
     "metadata": {},
     "output_type": "execute_result"
    }
   ],
   "source": [
    "clf_random_lasso_filter.fit(x_train_selected_filter, y_train)"
   ]
  },
  {
   "cell_type": "code",
   "execution_count": null,
   "metadata": {
    "colab": {
     "base_uri": "https://localhost:8080/"
    },
    "id": "p5n6oQ7KNEPg",
    "outputId": "7736d822-c4fe-433c-9405-9f1817d163f6"
   },
   "outputs": [
    {
     "data": {
      "text/plain": [
       "array([[1, 0, 0, ..., 0, 0, 0],\n",
       "       [0, 1, 0, ..., 0, 0, 0],\n",
       "       [0, 0, 0, ..., 1, 1, 0],\n",
       "       ...,\n",
       "       [0, 0, 0, ..., 0, 0, 0],\n",
       "       [0, 0, 0, ..., 0, 0, 0],\n",
       "       [0, 0, 0, ..., 1, 1, 0]])"
      ]
     },
     "execution_count": 54,
     "metadata": {},
     "output_type": "execute_result"
    }
   ],
   "source": [
    "x_train_selected_filter"
   ]
  },
  {
   "cell_type": "code",
   "execution_count": null,
   "metadata": {
    "id": "rMAJJnlLLv0F"
   },
   "outputs": [],
   "source": [
    "with open(\"/content/drive/MyDrive/NotebookSameer/Notebook/modelrf.pkl\", 'wb') as f:\n",
    "    pickle.dump(clf_random_lasso_filter,f)"
   ]
  },
  {
   "cell_type": "code",
   "execution_count": null,
   "metadata": {
    "id": "mhRuwWqIw16k"
   },
   "outputs": [],
   "source": [
    "y_predict_random_lasso_filter=clf_random_lasso_filter.predict(x_test_selected_filter)"
   ]
  },
  {
   "cell_type": "code",
   "execution_count": null,
   "metadata": {
    "id": "QqMbFStPw16k",
    "outputId": "8a6e2acb-3ad9-445c-9894-9b87825ec710"
   },
   "outputs": [
    {
     "name": "stdout",
     "output_type": "stream",
     "text": [
      "              precision    recall  f1-score   support\n",
      "\n",
      "     Allergy       1.00      1.00      1.00        32\n",
      " Common Cold       1.00      1.00      1.00        26\n",
      "      Dengue       1.00      1.00      1.00        39\n",
      "   Diabetes        1.00      1.00      1.00        38\n",
      " Hepatitis C       1.00      1.00      1.00        37\n",
      " Hepatitis E       1.00      1.00      1.00        42\n",
      "     Malaria       1.00      1.00      1.00        34\n",
      "Tuberculosis       1.00      1.00      1.00        36\n",
      "     Typhoid       1.00      1.00      1.00        40\n",
      "\n",
      "    accuracy                           1.00       324\n",
      "   macro avg       1.00      1.00      1.00       324\n",
      "weighted avg       1.00      1.00      1.00       324\n",
      "\n"
     ]
    }
   ],
   "source": [
    "print(classification_report(y_test, y_predict_random_lasso_filter))"
   ]
  },
  {
   "cell_type": "code",
   "execution_count": null,
   "metadata": {
    "id": "FLwQ1PD8w16l",
    "outputId": "b3753930-5fd6-490a-8d85-aa37f1259dc1"
   },
   "outputs": [
    {
     "data": {
      "text/plain": [
       "1.0"
      ]
     },
     "execution_count": 406,
     "metadata": {},
     "output_type": "execute_result"
    }
   ],
   "source": [
    "metrics.f1_score(y_test,y_predict_random_lasso_filter, average='weighted', labels=np.unique(y_predict_random_lasso_filter))"
   ]
  },
  {
   "cell_type": "code",
   "execution_count": null,
   "metadata": {
    "id": "iaNs8iNFw16l"
   },
   "outputs": [],
   "source": [
    "\"\"\"From above we had find the two score Using Lasso Regularisation and Using Random Forest Classifier with whole data and our filter data.\n",
    "And we can see that accuracy is almost same somehow.\"\"\";"
   ]
  },
  {
   "cell_type": "code",
   "execution_count": null,
   "metadata": {
    "id": "Z7ni37yuw16l"
   },
   "outputs": [],
   "source": [
    "'''Using PCA Transform data in Random Forest''';"
   ]
  },
  {
   "cell_type": "code",
   "execution_count": null,
   "metadata": {
    "id": "n0SujWAyw16l"
   },
   "outputs": [],
   "source": [
    "#Classifier of Random forest Classifier with PCA for whole data\n",
    "clf_pca = RandomForestClassifier(max_depth=5,random_state=0)"
   ]
  },
  {
   "cell_type": "code",
   "execution_count": null,
   "metadata": {
    "id": "NBtAcjAdw16m",
    "outputId": "d9fd3dbf-b48d-4516-e22d-ce9c99642b27"
   },
   "outputs": [
    {
     "data": {
      "text/plain": [
       "RandomForestClassifier(max_depth=5, random_state=0)"
      ]
     },
     "execution_count": 410,
     "metadata": {},
     "output_type": "execute_result"
    }
   ],
   "source": [
    "clf_pca.fit(x_transformed_train,y_train)"
   ]
  },
  {
   "cell_type": "code",
   "execution_count": null,
   "metadata": {
    "id": "7KyYM09nw16m"
   },
   "outputs": [],
   "source": [
    "y_pca=clf_pca.predict(x_transformed_test)"
   ]
  },
  {
   "cell_type": "code",
   "execution_count": null,
   "metadata": {
    "id": "YB_P2GDcw16m",
    "outputId": "4d2fb13a-7e99-4cc2-a500-f294db26f707"
   },
   "outputs": [
    {
     "name": "stdout",
     "output_type": "stream",
     "text": [
      "              precision    recall  f1-score   support\n",
      "\n",
      "     Allergy       1.00      0.50      0.67        32\n",
      " Common Cold       1.00      0.85      0.92        26\n",
      "      Dengue       0.40      0.74      0.52        39\n",
      "   Diabetes        0.48      0.37      0.42        38\n",
      " Hepatitis C       0.25      0.22      0.23        37\n",
      " Hepatitis E       0.00      0.00      0.00        42\n",
      "     Malaria       0.39      1.00      0.56        34\n",
      "Tuberculosis       0.92      1.00      0.96        36\n",
      "     Typhoid       0.50      0.23      0.31        40\n",
      "\n",
      "    accuracy                           0.52       324\n",
      "   macro avg       0.55      0.54      0.51       324\n",
      "weighted avg       0.52      0.52      0.48       324\n",
      "\n"
     ]
    }
   ],
   "source": [
    "print(classification_report(y_test, y_pca))"
   ]
  },
  {
   "cell_type": "code",
   "execution_count": null,
   "metadata": {
    "id": "fidW8Lpfw16m",
    "outputId": "26446709-f84e-4fad-8e10-62ecc86905c6"
   },
   "outputs": [
    {
     "data": {
      "text/plain": [
       "0.480703750535579"
      ]
     },
     "execution_count": 413,
     "metadata": {},
     "output_type": "execute_result"
    }
   ],
   "source": [
    "metrics.f1_score(y_test,y_pca, average='weighted', labels=np.unique(y_pca))"
   ]
  },
  {
   "cell_type": "code",
   "execution_count": null,
   "metadata": {
    "id": "H5wkt3HVw16n"
   },
   "outputs": [],
   "source": [
    "#Evaluting with the Filter data\n",
    "clf_pca_filter= RandomForestClassifier(max_depth=5,random_state=0)\n",
    "clf_pca_filter.fit(x_transformed_train_filter,y_train)\n",
    "y_pca_filter=clf_pca_filter.predict(x_transformed_test_filter)"
   ]
  },
  {
   "cell_type": "code",
   "execution_count": null,
   "metadata": {
    "id": "Pr4Mh01zw16n",
    "outputId": "26760079-e0a8-41a8-d8d9-d154ccd0804f"
   },
   "outputs": [
    {
     "name": "stdout",
     "output_type": "stream",
     "text": [
      "              precision    recall  f1-score   support\n",
      "\n",
      "     Allergy       1.00      0.69      0.81        32\n",
      " Common Cold       0.81      1.00      0.90        26\n",
      "      Dengue       0.72      0.72      0.72        39\n",
      "   Diabetes        0.54      0.39      0.45        38\n",
      " Hepatitis C       0.57      0.84      0.68        37\n",
      " Hepatitis E       0.94      0.74      0.83        42\n",
      "     Malaria       0.44      1.00      0.61        34\n",
      "Tuberculosis       1.00      1.00      1.00        36\n",
      "     Typhoid       1.00      0.05      0.10        40\n",
      "\n",
      "    accuracy                           0.69       324\n",
      "   macro avg       0.78      0.71      0.68       324\n",
      "weighted avg       0.78      0.69      0.66       324\n",
      "\n"
     ]
    }
   ],
   "source": [
    "print(classification_report(y_test, y_pca_filter))"
   ]
  },
  {
   "cell_type": "code",
   "execution_count": null,
   "metadata": {
    "id": "4TKAS20pw16n",
    "outputId": "c02a2c93-12a3-49e0-9ef5-335dc30b92df"
   },
   "outputs": [
    {
     "data": {
      "text/plain": [
       "0.6636985133813571"
      ]
     },
     "execution_count": 416,
     "metadata": {},
     "output_type": "execute_result"
    }
   ],
   "source": [
    "metrics.f1_score(y_test,y_pca_filter, average='weighted', labels=np.unique(y_pca_filter))"
   ]
  },
  {
   "cell_type": "code",
   "execution_count": null,
   "metadata": {
    "id": "KjP6_wsLw16o"
   },
   "outputs": [],
   "source": [
    "'''From above two score it can be seen that when,\n",
    "we use pca with random forest then filter data shows some high accuracy but not upto the mark.''';"
   ]
  },
  {
   "cell_type": "markdown",
   "metadata": {
    "id": "2aRIVrDGw16o"
   },
   "source": [
    "# 3.2 Support Vector Machine(SVM)"
   ]
  },
  {
   "cell_type": "code",
   "execution_count": null,
   "metadata": {
    "id": "lPDLrU27w16o"
   },
   "outputs": [],
   "source": [
    "#import of the Library\n",
    "from sklearn.svm import SVC\n",
    "clf_SVM=SVC(probability=True)"
   ]
  },
  {
   "cell_type": "markdown",
   "metadata": {
    "id": "BvHmY67sw16o"
   },
   "source": [
    "**Features that we have selected**"
   ]
  },
  {
   "cell_type": "code",
   "execution_count": null,
   "metadata": {
    "id": "-7mAAexFw16o",
    "outputId": "93b02490-8a94-4c73-b3b4-c1b889a21b15"
   },
   "outputs": [
    {
     "name": "stdout",
     "output_type": "stream",
     "text": [
      "(34,)\n"
     ]
    },
    {
     "data": {
      "text/plain": [
       "Index(['skin_rash', 'continuous_sneezing', 'shivering', 'fatigue',\n",
       "       'irregular_sugar_level', 'high_fever', 'sweating', 'yellowish_skin',\n",
       "       'dark_urine', 'nausea', 'pain_behind_the_eyes', 'back_pain',\n",
       "       'constipation', 'diarrhoea', 'mild_fever', 'malaise',\n",
       "       'throat_irritation', 'redness_of_eyes', 'sinus_pressure', 'runny_nose',\n",
       "       'congestion', 'obesity', 'loss_of_smell', 'toxic_look_(typhos)',\n",
       "       'muscle_pain', 'red_spots_over_body', 'belly_pain',\n",
       "       'watering_from_eyes', 'increased_appetite', 'polyuria',\n",
       "       'family_history', 'coma', 'stomach_bleeding', 'blood_in_sputum'],\n",
       "      dtype='object')"
      ]
     },
     "execution_count": 419,
     "metadata": {},
     "output_type": "execute_result"
    }
   ],
   "source": [
    "print(selected_feat_filter.shape)\n",
    "selected_feat_filter"
   ]
  },
  {
   "cell_type": "markdown",
   "metadata": {
    "id": "xlGXFcPVw16p"
   },
   "source": [
    "array(['Allergy', 'Common Cold', 'Dengue', 'Diabetes ', 'Hepatitis C',\n",
    "       'Hepatitis E', 'Malaria', 'Tuberculosis', 'Typhoid'], dtype=object)"
   ]
  },
  {
   "cell_type": "code",
   "execution_count": null,
   "metadata": {
    "id": "VtBvZiPKw16p",
    "outputId": "5d0c440a-30e0-4462-c603-cdb160e8dc49"
   },
   "outputs": [
    {
     "data": {
      "text/plain": [
       "SVC(probability=True)"
      ]
     },
     "execution_count": 420,
     "metadata": {},
     "output_type": "execute_result"
    }
   ],
   "source": [
    "clf_SVM.fit(x_train_selected_filter, y_train)"
   ]
  },
  {
   "cell_type": "code",
   "execution_count": null,
   "metadata": {
    "id": "t5danJUWw16q",
    "outputId": "16a60296-ad1f-49a2-ad7c-3fb159c35864"
   },
   "outputs": [
    {
     "data": {
      "text/plain": [
       "array(['Tuberculosis', 'Tuberculosis', 'Hepatitis E', 'Hepatitis C',\n",
       "       'Hepatitis E', 'Typhoid', 'Typhoid', 'Common Cold', 'Hepatitis C',\n",
       "       'Diabetes '], dtype=object)"
      ]
     },
     "execution_count": 421,
     "metadata": {},
     "output_type": "execute_result"
    }
   ],
   "source": [
    "y_test_SVM=clf_SVM.predict(x_test_selected_filter)\n",
    "y_test_SVM[:10]"
   ]
  },
  {
   "cell_type": "code",
   "execution_count": null,
   "metadata": {
    "id": "TVuxOynBw16q",
    "outputId": "b18b6b80-8081-4491-f7c8-5d6f77fc52ea"
   },
   "outputs": [
    {
     "name": "stdout",
     "output_type": "stream",
     "text": [
      "              precision    recall  f1-score   support\n",
      "\n",
      "     Allergy       1.00      1.00      1.00        32\n",
      " Common Cold       1.00      1.00      1.00        26\n",
      "      Dengue       1.00      1.00      1.00        39\n",
      "   Diabetes        1.00      1.00      1.00        38\n",
      " Hepatitis C       1.00      1.00      1.00        37\n",
      " Hepatitis E       1.00      1.00      1.00        42\n",
      "     Malaria       1.00      1.00      1.00        34\n",
      "Tuberculosis       1.00      1.00      1.00        36\n",
      "     Typhoid       1.00      1.00      1.00        40\n",
      "\n",
      "    accuracy                           1.00       324\n",
      "   macro avg       1.00      1.00      1.00       324\n",
      "weighted avg       1.00      1.00      1.00       324\n",
      "\n"
     ]
    }
   ],
   "source": [
    "print(classification_report(y_test, y_test_SVM))"
   ]
  },
  {
   "cell_type": "code",
   "execution_count": null,
   "metadata": {
    "id": "sgWq8Uk9w16r"
   },
   "outputs": [],
   "source": [
    "import pickle"
   ]
  },
  {
   "cell_type": "code",
   "execution_count": null,
   "metadata": {
    "id": "aYV6TY-Qw16r"
   },
   "outputs": [],
   "source": [
    "with open(\"./model.pkl\", 'wb') as f:\n",
    "    pickle.dump(clf_SVM,f)"
   ]
  },
  {
   "cell_type": "code",
   "execution_count": null,
   "metadata": {
    "id": "zlqgOXvGw16s"
   },
   "outputs": [],
   "source": [
    "with open(\"./model.pkl\", 'rb') as f:\n",
    "    clf_SVM = pickle.load(f)"
   ]
  },
  {
   "cell_type": "code",
   "execution_count": null,
   "metadata": {
    "id": "5yz17H4Zw16s"
   },
   "outputs": [],
   "source": [
    "'''So it can be seen that with SVM the score is coming to be more accurate than Random Forest Classifier''';"
   ]
  },
  {
   "cell_type": "markdown",
   "metadata": {
    "id": "nL9jAeRmw16t"
   },
   "source": [
    "'''We will for now give the output for those only whose probability is more than 40%(After Checking against many test cases), \n",
    "rest if less than we request to fill the form again''';"
   ]
  },
  {
   "cell_type": "markdown",
   "metadata": {
    "id": "Ui6skUD7w16u"
   },
   "source": [
    "## Checking for some symptons based on the data provided by the google"
   ]
  },
  {
   "cell_type": "markdown",
   "metadata": {
    "id": "lxPKnr_pw16u"
   },
   "source": [
    "'''Like for Diabetes the Symptons are'''\n",
    "Excessive thirst and hunger\n",
    "Frequent urination (from urinary tract infections or kidney problems)\n",
    "Weight loss or gain\n",
    "Fatigue\n",
    "Irritability\n",
    "Blurred vision\n",
    "Slow-healing wounds\n",
    "Nausea"
   ]
  },
  {
   "cell_type": "code",
   "execution_count": null,
   "metadata": {
    "id": "m8-b6JGMw16u",
    "outputId": "6981af07-452e-4941-994b-3694cc7f93b5"
   },
   "outputs": [
    {
     "data": {
      "text/plain": [
       "(1, 31)"
      ]
     },
     "execution_count": 427,
     "metadata": {},
     "output_type": "execute_result"
    }
   ],
   "source": [
    "'''Tested Data based on the symptons information from the \n",
    "google(https://www.medicinenet.com/diabetes_symptoms_in_men/article.htm)'''\n",
    "check=np.array([[1,0,0,0,0,0,0,0,0,0,0,0,0,0,0,0,0,0,0,0,0,0,0,0,0,0,0,0,0,0,0]])\n",
    "check.shape"
   ]
  },
  {
   "cell_type": "markdown",
   "metadata": {
    "id": "M1eNd82Aw16v"
   },
   "source": [
    "skin_rash', 'continuous_sneezing', 'shivering', 'fatigue',\n",
    "       'high_fever', 'sweating', 'yellowish_skin', 'dark_urine', 'nausea',\n",
    "       'pain_behind_the_eyes', 'back_pain', 'constipation', 'diarrhoea',\n",
    "       'mild_fever', 'malaise', 'throat_irritation', 'redness_of_eyes',\n",
    "       'sinus_pressure', 'runny_nose', 'congestion', 'loss_of_smell',\n",
    "       'toxic_look_(typhos)', 'muscle_pain', 'red_spots_over_body',\n",
    "       'belly_pain', 'watering_from_eyes', 'increased_appetite', 'polyuria',\n",
    "       'family_history', 'coma', 'stomach_bleeding', 'blood_in_sputum'"
   ]
  },
  {
   "cell_type": "code",
   "execution_count": null,
   "metadata": {
    "id": "4OsjffYiw16v",
    "outputId": "d10a490b-cafb-4bf4-85a3-0fb12059c74f"
   },
   "outputs": [
    {
     "ename": "ValueError",
     "evalue": "X.shape[1] = 31 should be equal to 34, the number of features at training time",
     "output_type": "error",
     "traceback": [
      "\u001b[1;31m---------------------------------------------------------------------------\u001b[0m",
      "\u001b[1;31mValueError\u001b[0m                                Traceback (most recent call last)",
      "\u001b[1;32m<ipython-input-428-10cb11ee6dbd>\u001b[0m in \u001b[0;36m<module>\u001b[1;34m\u001b[0m\n\u001b[0;32m      1\u001b[0m \u001b[1;31m# Probability of all the Classes\u001b[0m\u001b[1;33m\u001b[0m\u001b[1;33m\u001b[0m\u001b[1;33m\u001b[0m\u001b[0m\n\u001b[1;32m----> 2\u001b[1;33m \u001b[0mcheck_array\u001b[0m\u001b[1;33m=\u001b[0m\u001b[0mclf_SVM\u001b[0m\u001b[1;33m.\u001b[0m\u001b[0mpredict_proba\u001b[0m\u001b[1;33m(\u001b[0m\u001b[0mcheck\u001b[0m\u001b[1;33m)\u001b[0m\u001b[1;33m\u001b[0m\u001b[1;33m\u001b[0m\u001b[0m\n\u001b[0m\u001b[0;32m      3\u001b[0m \u001b[0mcheck_array\u001b[0m\u001b[1;33m\u001b[0m\u001b[1;33m\u001b[0m\u001b[0m\n",
      "\u001b[1;32m~\\anaconda3\\lib\\site-packages\\sklearn\\svm\\_base.py\u001b[0m in \u001b[0;36m_predict_proba\u001b[1;34m(self, X)\u001b[0m\n\u001b[0;32m    659\u001b[0m \u001b[1;33m\u001b[0m\u001b[0m\n\u001b[0;32m    660\u001b[0m     \u001b[1;32mdef\u001b[0m \u001b[0m_predict_proba\u001b[0m\u001b[1;33m(\u001b[0m\u001b[0mself\u001b[0m\u001b[1;33m,\u001b[0m \u001b[0mX\u001b[0m\u001b[1;33m)\u001b[0m\u001b[1;33m:\u001b[0m\u001b[1;33m\u001b[0m\u001b[1;33m\u001b[0m\u001b[0m\n\u001b[1;32m--> 661\u001b[1;33m         \u001b[0mX\u001b[0m \u001b[1;33m=\u001b[0m \u001b[0mself\u001b[0m\u001b[1;33m.\u001b[0m\u001b[0m_validate_for_predict\u001b[0m\u001b[1;33m(\u001b[0m\u001b[0mX\u001b[0m\u001b[1;33m)\u001b[0m\u001b[1;33m\u001b[0m\u001b[1;33m\u001b[0m\u001b[0m\n\u001b[0m\u001b[0;32m    662\u001b[0m         \u001b[1;32mif\u001b[0m \u001b[0mself\u001b[0m\u001b[1;33m.\u001b[0m\u001b[0mprobA_\u001b[0m\u001b[1;33m.\u001b[0m\u001b[0msize\u001b[0m \u001b[1;33m==\u001b[0m \u001b[1;36m0\u001b[0m \u001b[1;32mor\u001b[0m \u001b[0mself\u001b[0m\u001b[1;33m.\u001b[0m\u001b[0mprobB_\u001b[0m\u001b[1;33m.\u001b[0m\u001b[0msize\u001b[0m \u001b[1;33m==\u001b[0m \u001b[1;36m0\u001b[0m\u001b[1;33m:\u001b[0m\u001b[1;33m\u001b[0m\u001b[1;33m\u001b[0m\u001b[0m\n\u001b[0;32m    663\u001b[0m             raise NotFittedError(\"predict_proba is not available when fitted \"\n",
      "\u001b[1;32m~\\anaconda3\\lib\\site-packages\\sklearn\\svm\\_base.py\u001b[0m in \u001b[0;36m_validate_for_predict\u001b[1;34m(self, X)\u001b[0m\n\u001b[0;32m    482\u001b[0m                                  (X.shape[1], self.shape_fit_[0]))\n\u001b[0;32m    483\u001b[0m         \u001b[1;32melif\u001b[0m \u001b[1;32mnot\u001b[0m \u001b[0mcallable\u001b[0m\u001b[1;33m(\u001b[0m\u001b[0mself\u001b[0m\u001b[1;33m.\u001b[0m\u001b[0mkernel\u001b[0m\u001b[1;33m)\u001b[0m \u001b[1;32mand\u001b[0m \u001b[0mX\u001b[0m\u001b[1;33m.\u001b[0m\u001b[0mshape\u001b[0m\u001b[1;33m[\u001b[0m\u001b[1;36m1\u001b[0m\u001b[1;33m]\u001b[0m \u001b[1;33m!=\u001b[0m \u001b[0mself\u001b[0m\u001b[1;33m.\u001b[0m\u001b[0mshape_fit_\u001b[0m\u001b[1;33m[\u001b[0m\u001b[1;36m1\u001b[0m\u001b[1;33m]\u001b[0m\u001b[1;33m:\u001b[0m\u001b[1;33m\u001b[0m\u001b[1;33m\u001b[0m\u001b[0m\n\u001b[1;32m--> 484\u001b[1;33m             raise ValueError(\"X.shape[1] = %d should be equal to %d, \"\n\u001b[0m\u001b[0;32m    485\u001b[0m                              \u001b[1;34m\"the number of features at training time\"\u001b[0m \u001b[1;33m%\u001b[0m\u001b[1;33m\u001b[0m\u001b[1;33m\u001b[0m\u001b[0m\n\u001b[0;32m    486\u001b[0m                              (X.shape[1], self.shape_fit_[1]))\n",
      "\u001b[1;31mValueError\u001b[0m: X.shape[1] = 31 should be equal to 34, the number of features at training time"
     ]
    }
   ],
   "source": [
    "# Probability of all the Classes\n",
    "check_array=clf_SVM.predict_proba(check)\n",
    "check_array"
   ]
  },
  {
   "cell_type": "code",
   "execution_count": null,
   "metadata": {
    "id": "uXJxNT_-w16v"
   },
   "outputs": [],
   "source": [
    "# Predictions\n",
    "check_output=clf_SVM.predict(check)\n",
    "check_output"
   ]
  },
  {
   "cell_type": "code",
   "execution_count": null,
   "metadata": {
    "id": "BQT1ILGyw16w"
   },
   "outputs": [],
   "source": [
    "Diseases=['Allergy', 'Common Cold', 'Dengue', 'Diabetes ', 'Hepatitis C',\n",
    "       'Hepatitis E', 'Malaria', 'Tuberculosis', 'Typhoid']\n",
    "print((check_array[0]))\n",
    "print(np.amax(check_array[0]))\n",
    "print(np.where(check_array==np.amax(check_array[0])))"
   ]
  },
  {
   "cell_type": "code",
   "execution_count": null,
   "metadata": {
    "id": "fqybLJnFw16w"
   },
   "outputs": [],
   "source": [
    "'''Validating the Conditions'''\n",
    "for i in range(len(check_array)):\n",
    "    if max(check_array[i])<0.40:\n",
    "        print(\"PLEASE CHECK THE SYMPTOMS AGAIN\")\n",
    "    else:\n",
    "        print(check_output[0])\n",
    "    "
   ]
  },
  {
   "cell_type": "code",
   "execution_count": null,
   "metadata": {
    "id": "6-Z_ly2jw16w"
   },
   "outputs": [],
   "source": [
    "'''If some data point look like this'''\n",
    "check2=np.array([[0,0,0,0,0,1,1,0,1,0,0,1,1,1,1,1,1,1,1,0,1,1,0,0,0,0,0,0,1,0,0]])\n",
    "check2.shape"
   ]
  },
  {
   "cell_type": "code",
   "execution_count": null,
   "metadata": {
    "id": "pDKvbT0Fw16w"
   },
   "outputs": [],
   "source": [
    "#Probability of all Classes\n",
    "check2_array=clf_SVM.predict_proba(check2)\n",
    "check2_array"
   ]
  },
  {
   "cell_type": "code",
   "execution_count": null,
   "metadata": {
    "id": "rWtBOxJkw16x"
   },
   "outputs": [],
   "source": [
    "# Predictions\n",
    "check2_output=clf_SVM.predict(check2)\n",
    "check2_output"
   ]
  },
  {
   "cell_type": "code",
   "execution_count": null,
   "metadata": {
    "id": "OyfoeXYAw16x"
   },
   "outputs": [],
   "source": [
    "'''Validating the Conditions'''\n",
    "for i in range(len(check2_array)):\n",
    "    if max(check2_array[i])<0.40:\n",
    "        print(\"PLEASE CHECK THE SYMPTOMS AGAIN\")\n",
    "    else:\n",
    "        print(check_output[0])"
   ]
  },
  {
   "cell_type": "markdown",
   "metadata": {
    "id": "eGGB-Y-Uw16x"
   },
   "source": [
    "\"Here Even the Model is Giving the Output to be Common Cold but We will go again for Symptoms Check\""
   ]
  },
  {
   "cell_type": "markdown",
   "metadata": {
    "id": "ChnfB7Caw16x"
   },
   "source": [
    "skin_rash', 'continuous_sneezing', 'shivering', 'fatigue', 'high_fever', 'sweating', 'yellowish_skin', 'dark_urine', 'nausea', 'pain_behind_the_eyes', 'back_pain', 'constipation', 'diarrhoea', 'mild_fever', 'malaise', 'throat_irritation', 'redness_of_eyes', 'sinus_pressure', 'runny_nose', 'congestion', 'loss_of_smell', 'toxic_look_(typhos)', 'muscle_pain', 'red_spots_over_body', 'belly_pain', 'watering_from_eyes', 'increased_appetite', 'polyuria', 'family_history', 'coma', 'stomach_bleeding', 'blood_in_sputum"
   ]
  },
  {
   "cell_type": "code",
   "execution_count": null,
   "metadata": {
    "id": "XUPteQ4Yw16y"
   },
   "outputs": [],
   "source": [
    "op=np.array([[1,1,1,1,0,1,0,1,0,1,0,0,0,1,0,1,0,0,0,1,1,1,0,1,0,1,0,1,1,1,1]])"
   ]
  },
  {
   "cell_type": "code",
   "execution_count": null,
   "metadata": {
    "id": "DE2lGi4Dw16y"
   },
   "outputs": [],
   "source": [
    "pp=clf_SVM.predict_proba(op)\n"
   ]
  },
  {
   "cell_type": "code",
   "execution_count": null,
   "metadata": {
    "id": "ISoFLPOuw16y"
   },
   "outputs": [],
   "source": [
    "'''Validating the Conditions'''\n",
    "for i in range(len(pp)):\n",
    "    print(check2_array[i])\n",
    "    if max(check2_array[i])<0.40:\n",
    "        print(\"PLEASE CHECK THE SYMPTOMS AGAIN\")\n",
    "    else:\n",
    "        print(check_output[0])"
   ]
  }
 ],
 "metadata": {
  "colab": {
   "name": "College_Project.ipynb",
   "provenance": []
  },
  "kernelspec": {
   "display_name": "Python 3",
   "language": "python",
   "name": "python3"
  },
  "language_info": {
   "codemirror_mode": {
    "name": "ipython",
    "version": 3
   },
   "file_extension": ".py",
   "mimetype": "text/x-python",
   "name": "python",
   "nbconvert_exporter": "python",
   "pygments_lexer": "ipython3",
   "version": "3.8.5"
  }
 },
 "nbformat": 4,
 "nbformat_minor": 1
}
